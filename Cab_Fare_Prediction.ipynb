{
 "cells": [
  {
   "cell_type": "code",
   "execution_count": 1,
   "metadata": {},
   "outputs": [
    {
     "name": "stderr",
     "output_type": "stream",
     "text": [
      "Using TensorFlow backend.\n"
     ]
    }
   ],
   "source": [
    "# importing Libraries\n",
    "import os # for input/output operation\n",
    "import pandas as pd # for data pre-processing and model developement.\n",
    "import matplotlib.pyplot as plt # for visualization and plttoing\n",
    "import numpy as np # for linear algebric functions and numerical operations with python\n",
    "import seaborn as sns # for plotting \n",
    "import statsmodels.api as sm \n",
    "from scipy import stats # for statistical operation\n",
    "from scipy.stats import chi2_contingency # for chi-square test\n",
    "from statsmodels.formula.api import ols # ordinary least sqare\n",
    "from patsy import dmatrices\n",
    "from statsmodels.stats.outliers_influence import variance_inflation_factor # to calculate VIF\n",
    "from fancyimpute import KNN # for KNN imputation\n",
    "from sklearn.cluster import KMeans\n",
    "from sklearn.preprocessing import MinMaxScaler\n",
    "from sklearn.preprocessing import LabelEncoder\n",
    "from sklearn.tree import DecisionTreeRegressor\n",
    "from sklearn.ensemble import RandomForestRegressor\n",
    "from sklearn.ensemble import GradientBoostingRegressor\n",
    "from sklearn.linear_model import LinearRegression #ML algorithm\n",
    "from sklearn.model_selection import train_test_split #splitting dataset\n",
    "from sklearn.metrics import mean_squared_error \n",
    "from sklearn.metrics import r2_score \n",
    "from pprint import pprint\n",
    "from sklearn.model_selection import GridSearchCV    \n",
    "from sklearn.model_selection import RandomizedSearchCV\n",
    "%matplotlib inline"
   ]
  },
  {
   "cell_type": "code",
   "execution_count": 2,
   "metadata": {},
   "outputs": [],
   "source": [
    "# set working directory\n",
    "os.chdir(\"D:\\edwiser\\Project\\Cab Fare Prediction\")"
   ]
  },
  {
   "cell_type": "code",
   "execution_count": 3,
   "metadata": {},
   "outputs": [
    {
     "data": {
      "text/plain": [
       "'D:\\\\edwiser\\\\Project\\\\Cab Fare Prediction'"
      ]
     },
     "execution_count": 3,
     "metadata": {},
     "output_type": "execute_result"
    }
   ],
   "source": [
    "os.getcwd()"
   ]
  },
  {
   "cell_type": "code",
   "execution_count": 4,
   "metadata": {},
   "outputs": [],
   "source": [
    "# import data\n",
    "train = pd.read_csv(\"train_cab.csv\")\n",
    "test = pd.read_csv(\"test.csv\")"
   ]
  },
  {
   "cell_type": "code",
   "execution_count": 5,
   "metadata": {},
   "outputs": [
    {
     "data": {
      "text/html": [
       "<div>\n",
       "<style scoped>\n",
       "    .dataframe tbody tr th:only-of-type {\n",
       "        vertical-align: middle;\n",
       "    }\n",
       "\n",
       "    .dataframe tbody tr th {\n",
       "        vertical-align: top;\n",
       "    }\n",
       "\n",
       "    .dataframe thead th {\n",
       "        text-align: right;\n",
       "    }\n",
       "</style>\n",
       "<table border=\"1\" class=\"dataframe\">\n",
       "  <thead>\n",
       "    <tr style=\"text-align: right;\">\n",
       "      <th></th>\n",
       "      <th>fare_amount</th>\n",
       "      <th>pickup_datetime</th>\n",
       "      <th>pickup_longitude</th>\n",
       "      <th>pickup_latitude</th>\n",
       "      <th>dropoff_longitude</th>\n",
       "      <th>dropoff_latitude</th>\n",
       "      <th>passenger_count</th>\n",
       "    </tr>\n",
       "  </thead>\n",
       "  <tbody>\n",
       "    <tr>\n",
       "      <th>0</th>\n",
       "      <td>4.5</td>\n",
       "      <td>2009-06-15 17:26:21 UTC</td>\n",
       "      <td>-73.844311</td>\n",
       "      <td>40.721319</td>\n",
       "      <td>-73.841610</td>\n",
       "      <td>40.712278</td>\n",
       "      <td>1.0</td>\n",
       "    </tr>\n",
       "    <tr>\n",
       "      <th>1</th>\n",
       "      <td>16.9</td>\n",
       "      <td>2010-01-05 16:52:16 UTC</td>\n",
       "      <td>-74.016048</td>\n",
       "      <td>40.711303</td>\n",
       "      <td>-73.979268</td>\n",
       "      <td>40.782004</td>\n",
       "      <td>1.0</td>\n",
       "    </tr>\n",
       "    <tr>\n",
       "      <th>2</th>\n",
       "      <td>5.7</td>\n",
       "      <td>2011-08-18 00:35:00 UTC</td>\n",
       "      <td>-73.982738</td>\n",
       "      <td>40.761270</td>\n",
       "      <td>-73.991242</td>\n",
       "      <td>40.750562</td>\n",
       "      <td>2.0</td>\n",
       "    </tr>\n",
       "    <tr>\n",
       "      <th>3</th>\n",
       "      <td>7.7</td>\n",
       "      <td>2012-04-21 04:30:42 UTC</td>\n",
       "      <td>-73.987130</td>\n",
       "      <td>40.733143</td>\n",
       "      <td>-73.991567</td>\n",
       "      <td>40.758092</td>\n",
       "      <td>1.0</td>\n",
       "    </tr>\n",
       "    <tr>\n",
       "      <th>4</th>\n",
       "      <td>5.3</td>\n",
       "      <td>2010-03-09 07:51:00 UTC</td>\n",
       "      <td>-73.968095</td>\n",
       "      <td>40.768008</td>\n",
       "      <td>-73.956655</td>\n",
       "      <td>40.783762</td>\n",
       "      <td>1.0</td>\n",
       "    </tr>\n",
       "  </tbody>\n",
       "</table>\n",
       "</div>"
      ],
      "text/plain": [
       "  fare_amount          pickup_datetime  pickup_longitude  pickup_latitude  \\\n",
       "0         4.5  2009-06-15 17:26:21 UTC        -73.844311        40.721319   \n",
       "1        16.9  2010-01-05 16:52:16 UTC        -74.016048        40.711303   \n",
       "2         5.7  2011-08-18 00:35:00 UTC        -73.982738        40.761270   \n",
       "3         7.7  2012-04-21 04:30:42 UTC        -73.987130        40.733143   \n",
       "4         5.3  2010-03-09 07:51:00 UTC        -73.968095        40.768008   \n",
       "\n",
       "   dropoff_longitude  dropoff_latitude  passenger_count  \n",
       "0         -73.841610         40.712278              1.0  \n",
       "1         -73.979268         40.782004              1.0  \n",
       "2         -73.991242         40.750562              2.0  \n",
       "3         -73.991567         40.758092              1.0  \n",
       "4         -73.956655         40.783762              1.0  "
      ]
     },
     "execution_count": 5,
     "metadata": {},
     "output_type": "execute_result"
    }
   ],
   "source": [
    "train.head()"
   ]
  },
  {
   "cell_type": "code",
   "execution_count": 6,
   "metadata": {
    "scrolled": true
   },
   "outputs": [
    {
     "name": "stdout",
     "output_type": "stream",
     "text": [
      "<class 'pandas.core.frame.DataFrame'>\n",
      "RangeIndex: 16067 entries, 0 to 16066\n",
      "Data columns (total 7 columns):\n",
      "fare_amount          16043 non-null object\n",
      "pickup_datetime      16067 non-null object\n",
      "pickup_longitude     16067 non-null float64\n",
      "pickup_latitude      16067 non-null float64\n",
      "dropoff_longitude    16067 non-null float64\n",
      "dropoff_latitude     16067 non-null float64\n",
      "passenger_count      16012 non-null float64\n",
      "dtypes: float64(5), object(2)\n",
      "memory usage: 878.7+ KB\n"
     ]
    }
   ],
   "source": [
    "train.info()"
   ]
  },
  {
   "cell_type": "code",
   "execution_count": 7,
   "metadata": {},
   "outputs": [],
   "source": [
    "# Here we can see that some missing values are present in fare_amount and passenger_count"
   ]
  },
  {
   "cell_type": "code",
   "execution_count": 8,
   "metadata": {},
   "outputs": [
    {
     "data": {
      "text/html": [
       "<div>\n",
       "<style scoped>\n",
       "    .dataframe tbody tr th:only-of-type {\n",
       "        vertical-align: middle;\n",
       "    }\n",
       "\n",
       "    .dataframe tbody tr th {\n",
       "        vertical-align: top;\n",
       "    }\n",
       "\n",
       "    .dataframe thead th {\n",
       "        text-align: right;\n",
       "    }\n",
       "</style>\n",
       "<table border=\"1\" class=\"dataframe\">\n",
       "  <thead>\n",
       "    <tr style=\"text-align: right;\">\n",
       "      <th></th>\n",
       "      <th>pickup_longitude</th>\n",
       "      <th>pickup_latitude</th>\n",
       "      <th>dropoff_longitude</th>\n",
       "      <th>dropoff_latitude</th>\n",
       "      <th>passenger_count</th>\n",
       "    </tr>\n",
       "  </thead>\n",
       "  <tbody>\n",
       "    <tr>\n",
       "      <th>count</th>\n",
       "      <td>16067.000000</td>\n",
       "      <td>16067.000000</td>\n",
       "      <td>16067.000000</td>\n",
       "      <td>16067.000000</td>\n",
       "      <td>16012.000000</td>\n",
       "    </tr>\n",
       "    <tr>\n",
       "      <th>mean</th>\n",
       "      <td>-72.462787</td>\n",
       "      <td>39.914725</td>\n",
       "      <td>-72.462328</td>\n",
       "      <td>39.897906</td>\n",
       "      <td>2.625070</td>\n",
       "    </tr>\n",
       "    <tr>\n",
       "      <th>std</th>\n",
       "      <td>10.578384</td>\n",
       "      <td>6.826587</td>\n",
       "      <td>10.575062</td>\n",
       "      <td>6.187087</td>\n",
       "      <td>60.844122</td>\n",
       "    </tr>\n",
       "    <tr>\n",
       "      <th>min</th>\n",
       "      <td>-74.438233</td>\n",
       "      <td>-74.006893</td>\n",
       "      <td>-74.429332</td>\n",
       "      <td>-74.006377</td>\n",
       "      <td>0.000000</td>\n",
       "    </tr>\n",
       "    <tr>\n",
       "      <th>25%</th>\n",
       "      <td>-73.992156</td>\n",
       "      <td>40.734927</td>\n",
       "      <td>-73.991182</td>\n",
       "      <td>40.734651</td>\n",
       "      <td>1.000000</td>\n",
       "    </tr>\n",
       "    <tr>\n",
       "      <th>50%</th>\n",
       "      <td>-73.981698</td>\n",
       "      <td>40.752603</td>\n",
       "      <td>-73.980172</td>\n",
       "      <td>40.753567</td>\n",
       "      <td>1.000000</td>\n",
       "    </tr>\n",
       "    <tr>\n",
       "      <th>75%</th>\n",
       "      <td>-73.966838</td>\n",
       "      <td>40.767381</td>\n",
       "      <td>-73.963643</td>\n",
       "      <td>40.768013</td>\n",
       "      <td>2.000000</td>\n",
       "    </tr>\n",
       "    <tr>\n",
       "      <th>max</th>\n",
       "      <td>40.766125</td>\n",
       "      <td>401.083332</td>\n",
       "      <td>40.802437</td>\n",
       "      <td>41.366138</td>\n",
       "      <td>5345.000000</td>\n",
       "    </tr>\n",
       "  </tbody>\n",
       "</table>\n",
       "</div>"
      ],
      "text/plain": [
       "       pickup_longitude  pickup_latitude  dropoff_longitude  dropoff_latitude  \\\n",
       "count      16067.000000     16067.000000       16067.000000      16067.000000   \n",
       "mean         -72.462787        39.914725         -72.462328         39.897906   \n",
       "std           10.578384         6.826587          10.575062          6.187087   \n",
       "min          -74.438233       -74.006893         -74.429332        -74.006377   \n",
       "25%          -73.992156        40.734927         -73.991182         40.734651   \n",
       "50%          -73.981698        40.752603         -73.980172         40.753567   \n",
       "75%          -73.966838        40.767381         -73.963643         40.768013   \n",
       "max           40.766125       401.083332          40.802437         41.366138   \n",
       "\n",
       "       passenger_count  \n",
       "count     16012.000000  \n",
       "mean          2.625070  \n",
       "std          60.844122  \n",
       "min           0.000000  \n",
       "25%           1.000000  \n",
       "50%           1.000000  \n",
       "75%           2.000000  \n",
       "max        5345.000000  "
      ]
     },
     "execution_count": 8,
     "metadata": {},
     "output_type": "execute_result"
    }
   ],
   "source": [
    "train.describe()"
   ]
  },
  {
   "cell_type": "code",
   "execution_count": 9,
   "metadata": {},
   "outputs": [
    {
     "data": {
      "text/html": [
       "<div>\n",
       "<style scoped>\n",
       "    .dataframe tbody tr th:only-of-type {\n",
       "        vertical-align: middle;\n",
       "    }\n",
       "\n",
       "    .dataframe tbody tr th {\n",
       "        vertical-align: top;\n",
       "    }\n",
       "\n",
       "    .dataframe thead th {\n",
       "        text-align: right;\n",
       "    }\n",
       "</style>\n",
       "<table border=\"1\" class=\"dataframe\">\n",
       "  <thead>\n",
       "    <tr style=\"text-align: right;\">\n",
       "      <th></th>\n",
       "      <th>pickup_datetime</th>\n",
       "      <th>pickup_longitude</th>\n",
       "      <th>pickup_latitude</th>\n",
       "      <th>dropoff_longitude</th>\n",
       "      <th>dropoff_latitude</th>\n",
       "      <th>passenger_count</th>\n",
       "    </tr>\n",
       "  </thead>\n",
       "  <tbody>\n",
       "    <tr>\n",
       "      <th>0</th>\n",
       "      <td>2015-01-27 13:08:24 UTC</td>\n",
       "      <td>-73.973320</td>\n",
       "      <td>40.763805</td>\n",
       "      <td>-73.981430</td>\n",
       "      <td>40.743835</td>\n",
       "      <td>1</td>\n",
       "    </tr>\n",
       "    <tr>\n",
       "      <th>1</th>\n",
       "      <td>2015-01-27 13:08:24 UTC</td>\n",
       "      <td>-73.986862</td>\n",
       "      <td>40.719383</td>\n",
       "      <td>-73.998886</td>\n",
       "      <td>40.739201</td>\n",
       "      <td>1</td>\n",
       "    </tr>\n",
       "    <tr>\n",
       "      <th>2</th>\n",
       "      <td>2011-10-08 11:53:44 UTC</td>\n",
       "      <td>-73.982524</td>\n",
       "      <td>40.751260</td>\n",
       "      <td>-73.979654</td>\n",
       "      <td>40.746139</td>\n",
       "      <td>1</td>\n",
       "    </tr>\n",
       "    <tr>\n",
       "      <th>3</th>\n",
       "      <td>2012-12-01 21:12:12 UTC</td>\n",
       "      <td>-73.981160</td>\n",
       "      <td>40.767807</td>\n",
       "      <td>-73.990448</td>\n",
       "      <td>40.751635</td>\n",
       "      <td>1</td>\n",
       "    </tr>\n",
       "    <tr>\n",
       "      <th>4</th>\n",
       "      <td>2012-12-01 21:12:12 UTC</td>\n",
       "      <td>-73.966046</td>\n",
       "      <td>40.789775</td>\n",
       "      <td>-73.988565</td>\n",
       "      <td>40.744427</td>\n",
       "      <td>1</td>\n",
       "    </tr>\n",
       "  </tbody>\n",
       "</table>\n",
       "</div>"
      ],
      "text/plain": [
       "           pickup_datetime  pickup_longitude  pickup_latitude  \\\n",
       "0  2015-01-27 13:08:24 UTC        -73.973320        40.763805   \n",
       "1  2015-01-27 13:08:24 UTC        -73.986862        40.719383   \n",
       "2  2011-10-08 11:53:44 UTC        -73.982524        40.751260   \n",
       "3  2012-12-01 21:12:12 UTC        -73.981160        40.767807   \n",
       "4  2012-12-01 21:12:12 UTC        -73.966046        40.789775   \n",
       "\n",
       "   dropoff_longitude  dropoff_latitude  passenger_count  \n",
       "0         -73.981430         40.743835                1  \n",
       "1         -73.998886         40.739201                1  \n",
       "2         -73.979654         40.746139                1  \n",
       "3         -73.990448         40.751635                1  \n",
       "4         -73.988565         40.744427                1  "
      ]
     },
     "execution_count": 9,
     "metadata": {},
     "output_type": "execute_result"
    }
   ],
   "source": [
    "test.head()"
   ]
  },
  {
   "cell_type": "code",
   "execution_count": 10,
   "metadata": {},
   "outputs": [
    {
     "name": "stdout",
     "output_type": "stream",
     "text": [
      "<class 'pandas.core.frame.DataFrame'>\n",
      "RangeIndex: 9914 entries, 0 to 9913\n",
      "Data columns (total 6 columns):\n",
      "pickup_datetime      9914 non-null object\n",
      "pickup_longitude     9914 non-null float64\n",
      "pickup_latitude      9914 non-null float64\n",
      "dropoff_longitude    9914 non-null float64\n",
      "dropoff_latitude     9914 non-null float64\n",
      "passenger_count      9914 non-null int64\n",
      "dtypes: float64(4), int64(1), object(1)\n",
      "memory usage: 464.8+ KB\n"
     ]
    }
   ],
   "source": [
    "test.info()"
   ]
  },
  {
   "cell_type": "code",
   "execution_count": 11,
   "metadata": {},
   "outputs": [
    {
     "data": {
      "text/html": [
       "<div>\n",
       "<style scoped>\n",
       "    .dataframe tbody tr th:only-of-type {\n",
       "        vertical-align: middle;\n",
       "    }\n",
       "\n",
       "    .dataframe tbody tr th {\n",
       "        vertical-align: top;\n",
       "    }\n",
       "\n",
       "    .dataframe thead th {\n",
       "        text-align: right;\n",
       "    }\n",
       "</style>\n",
       "<table border=\"1\" class=\"dataframe\">\n",
       "  <thead>\n",
       "    <tr style=\"text-align: right;\">\n",
       "      <th></th>\n",
       "      <th>pickup_longitude</th>\n",
       "      <th>pickup_latitude</th>\n",
       "      <th>dropoff_longitude</th>\n",
       "      <th>dropoff_latitude</th>\n",
       "      <th>passenger_count</th>\n",
       "    </tr>\n",
       "  </thead>\n",
       "  <tbody>\n",
       "    <tr>\n",
       "      <th>count</th>\n",
       "      <td>9914.000000</td>\n",
       "      <td>9914.000000</td>\n",
       "      <td>9914.000000</td>\n",
       "      <td>9914.000000</td>\n",
       "      <td>9914.000000</td>\n",
       "    </tr>\n",
       "    <tr>\n",
       "      <th>mean</th>\n",
       "      <td>-73.974722</td>\n",
       "      <td>40.751041</td>\n",
       "      <td>-73.973657</td>\n",
       "      <td>40.751743</td>\n",
       "      <td>1.671273</td>\n",
       "    </tr>\n",
       "    <tr>\n",
       "      <th>std</th>\n",
       "      <td>0.042774</td>\n",
       "      <td>0.033541</td>\n",
       "      <td>0.039072</td>\n",
       "      <td>0.035435</td>\n",
       "      <td>1.278747</td>\n",
       "    </tr>\n",
       "    <tr>\n",
       "      <th>min</th>\n",
       "      <td>-74.252193</td>\n",
       "      <td>40.573143</td>\n",
       "      <td>-74.263242</td>\n",
       "      <td>40.568973</td>\n",
       "      <td>1.000000</td>\n",
       "    </tr>\n",
       "    <tr>\n",
       "      <th>25%</th>\n",
       "      <td>-73.992501</td>\n",
       "      <td>40.736125</td>\n",
       "      <td>-73.991247</td>\n",
       "      <td>40.735254</td>\n",
       "      <td>1.000000</td>\n",
       "    </tr>\n",
       "    <tr>\n",
       "      <th>50%</th>\n",
       "      <td>-73.982326</td>\n",
       "      <td>40.753051</td>\n",
       "      <td>-73.980015</td>\n",
       "      <td>40.754065</td>\n",
       "      <td>1.000000</td>\n",
       "    </tr>\n",
       "    <tr>\n",
       "      <th>75%</th>\n",
       "      <td>-73.968013</td>\n",
       "      <td>40.767113</td>\n",
       "      <td>-73.964059</td>\n",
       "      <td>40.768757</td>\n",
       "      <td>2.000000</td>\n",
       "    </tr>\n",
       "    <tr>\n",
       "      <th>max</th>\n",
       "      <td>-72.986532</td>\n",
       "      <td>41.709555</td>\n",
       "      <td>-72.990963</td>\n",
       "      <td>41.696683</td>\n",
       "      <td>6.000000</td>\n",
       "    </tr>\n",
       "  </tbody>\n",
       "</table>\n",
       "</div>"
      ],
      "text/plain": [
       "       pickup_longitude  pickup_latitude  dropoff_longitude  dropoff_latitude  \\\n",
       "count       9914.000000      9914.000000        9914.000000       9914.000000   \n",
       "mean         -73.974722        40.751041         -73.973657         40.751743   \n",
       "std            0.042774         0.033541           0.039072          0.035435   \n",
       "min          -74.252193        40.573143         -74.263242         40.568973   \n",
       "25%          -73.992501        40.736125         -73.991247         40.735254   \n",
       "50%          -73.982326        40.753051         -73.980015         40.754065   \n",
       "75%          -73.968013        40.767113         -73.964059         40.768757   \n",
       "max          -72.986532        41.709555         -72.990963         41.696683   \n",
       "\n",
       "       passenger_count  \n",
       "count      9914.000000  \n",
       "mean          1.671273  \n",
       "std           1.278747  \n",
       "min           1.000000  \n",
       "25%           1.000000  \n",
       "50%           1.000000  \n",
       "75%           2.000000  \n",
       "max           6.000000  "
      ]
     },
     "execution_count": 11,
     "metadata": {},
     "output_type": "execute_result"
    }
   ],
   "source": [
    "test.describe()"
   ]
  },
  {
   "cell_type": "code",
   "execution_count": 12,
   "metadata": {},
   "outputs": [],
   "source": [
    "# There are no missing values present in test data\n",
    "# we will check and decide wheather to impute or remove missing values in missing value analysis step\n",
    "# Pickup_datetime is in object format in both train and test data so we need to change its data type to datetime\n",
    "# fare_amount is also in object format so we will convert it into numeric format"
   ]
  },
  {
   "cell_type": "code",
   "execution_count": 13,
   "metadata": {},
   "outputs": [],
   "source": [
    "# converting pickup_datetime to datetime format\n",
    "train['pickup_datetime'] = pd.to_datetime(train['pickup_datetime'], errors ='coerce')\n",
    "test['pickup_datetime'] = pd.to_datetime(test['pickup_datetime'])"
   ]
  },
  {
   "cell_type": "code",
   "execution_count": 14,
   "metadata": {},
   "outputs": [],
   "source": [
    "#converting fare_amount into numeric format\n",
    "train[\"fare_amount\"] = pd.to_numeric(train[\"fare_amount\"],errors = \"coerce\")  \n",
    "#Using errors=’coerce’. It will replace all non-numeric values with NaN."
   ]
  },
  {
   "cell_type": "code",
   "execution_count": 15,
   "metadata": {},
   "outputs": [
    {
     "name": "stdout",
     "output_type": "stream",
     "text": [
      "<class 'pandas.core.frame.DataFrame'>\n",
      "RangeIndex: 16067 entries, 0 to 16066\n",
      "Data columns (total 7 columns):\n",
      "fare_amount          16042 non-null float64\n",
      "pickup_datetime      16066 non-null datetime64[ns, UTC]\n",
      "pickup_longitude     16067 non-null float64\n",
      "pickup_latitude      16067 non-null float64\n",
      "dropoff_longitude    16067 non-null float64\n",
      "dropoff_latitude     16067 non-null float64\n",
      "passenger_count      16012 non-null float64\n",
      "dtypes: datetime64[ns, UTC](1), float64(6)\n",
      "memory usage: 878.7 KB\n"
     ]
    }
   ],
   "source": [
    "train.info()"
   ]
  },
  {
   "cell_type": "code",
   "execution_count": 16,
   "metadata": {},
   "outputs": [
    {
     "name": "stdout",
     "output_type": "stream",
     "text": [
      "1015     54343.00\n",
      "1072      4343.00\n",
      "607        453.00\n",
      "980        434.00\n",
      "1335       180.00\n",
      "1483       165.00\n",
      "6630       128.83\n",
      "14142      108.00\n",
      "12349      104.67\n",
      "12915       96.00\n",
      "7810        95.00\n",
      "9431        88.00\n",
      "10077       87.30\n",
      "12614       87.00\n",
      "4620        85.50\n",
      "14519       82.50\n",
      "12437       80.75\n",
      "2639        79.00\n",
      "4013        77.70\n",
      "13962       77.15\n",
      "2013        77.00\n",
      "6668        76.80\n",
      "8363        76.00\n",
      "10524       75.80\n",
      "11019       75.33\n",
      "13615       75.00\n",
      "15023       73.30\n",
      "1494        70.00\n",
      "4118        69.70\n",
      "649         66.30\n",
      "           ...   \n",
      "2780         0.01\n",
      "10002        0.00\n",
      "2486        -2.50\n",
      "2039        -2.90\n",
      "13032       -3.00\n",
      "8             NaN\n",
      "26            NaN\n",
      "69            NaN\n",
      "126           NaN\n",
      "168           NaN\n",
      "240           NaN\n",
      "305           NaN\n",
      "350           NaN\n",
      "413           NaN\n",
      "455           NaN\n",
      "498           NaN\n",
      "667           NaN\n",
      "703           NaN\n",
      "746           NaN\n",
      "836           NaN\n",
      "840           NaN\n",
      "913           NaN\n",
      "1123          NaN\n",
      "1574          NaN\n",
      "1628          NaN\n",
      "1712          NaN\n",
      "2412          NaN\n",
      "2458          NaN\n",
      "8178          NaN\n",
      "8226          NaN\n",
      "Name: fare_amount, Length: 16067, dtype: float64\n"
     ]
    }
   ],
   "source": [
    "#Now we will check for the inconsistancy in fare amount\n",
    "#print(train['fare_amount'].sort_values(ascending= True)) \n",
    "print(train['fare_amount'].sort_values(ascending= False)) "
   ]
  },
  {
   "cell_type": "code",
   "execution_count": 17,
   "metadata": {},
   "outputs": [],
   "source": [
    "# fare_amount can't be negative or zero so we will remove the fare which is less than one.\n",
    "# we can see that in the index no.1015 and 1072, index fare amount varrying highly from the other observations which may have a \n",
    "# significant effect on the model so we will remove these values.\n",
    "train = train.drop(train[train[\"fare_amount\"]> 453].index, axis=0)\n",
    "train = train.drop(train[train[\"fare_amount\"]< 1].index, axis =0)"
   ]
  },
  {
   "cell_type": "code",
   "execution_count": 18,
   "metadata": {},
   "outputs": [
    {
     "data": {
      "text/plain": [
       "(16060,)"
      ]
     },
     "execution_count": 18,
     "metadata": {},
     "output_type": "execute_result"
    }
   ],
   "source": [
    "train['fare_amount'].shape"
   ]
  },
  {
   "cell_type": "code",
   "execution_count": 19,
   "metadata": {},
   "outputs": [
    {
     "data": {
      "text/plain": [
       "1.00       11253\n",
       "2.00        2322\n",
       "5.00        1045\n",
       "3.00         676\n",
       "4.00         328\n",
       "6.00         302\n",
       "0.00          57\n",
       "43.00          2\n",
       "53.00          2\n",
       "0.12           1\n",
       "1.30           1\n",
       "531.20         1\n",
       "345.00         1\n",
       "456.00         1\n",
       "87.00          1\n",
       "55.00          1\n",
       "58.00          1\n",
       "236.00         1\n",
       "535.00         1\n",
       "536.00         1\n",
       "537.00         1\n",
       "554.00         1\n",
       "5334.00        1\n",
       "35.00          1\n",
       "5345.00        1\n",
       "557.00         1\n",
       "354.00         1\n",
       "Name: passenger_count, dtype: int64"
      ]
     },
     "execution_count": 19,
     "metadata": {},
     "output_type": "execute_result"
    }
   ],
   "source": [
    "#Now we will check for the inconsistancy in pasaenger_count\n",
    "# Check for unique values in passenger count\n",
    "train['passenger_count'].value_counts()"
   ]
  },
  {
   "cell_type": "code",
   "execution_count": 20,
   "metadata": {},
   "outputs": [],
   "source": [
    "# passenger count can't be a fractional number and in a cab more than 6 passenger can't seat.\n",
    "# so we will remove these observations which have greater than 6 and less than 1 passanger count."
   ]
  },
  {
   "cell_type": "code",
   "execution_count": 21,
   "metadata": {},
   "outputs": [],
   "source": [
    "#Removing pasanger counts which are greater than 6 and and less than 1.\n",
    "train = train.drop(train[train[\"passenger_count\"]> 6 ].index, axis=0)\n",
    "train = train.drop(train[train[\"passenger_count\"]< 1 ].index, axis=0)"
   ]
  },
  {
   "cell_type": "code",
   "execution_count": 22,
   "metadata": {},
   "outputs": [
    {
     "data": {
      "text/plain": [
       "array([1. , 2. , 3. , nan, 6. , 5. , 4. , 1.3])"
      ]
     },
     "execution_count": 22,
     "metadata": {},
     "output_type": "execute_result"
    }
   ],
   "source": [
    "#train.shape \n",
    "train['passenger_count'].unique()"
   ]
  },
  {
   "cell_type": "code",
   "execution_count": 23,
   "metadata": {},
   "outputs": [
    {
     "data": {
      "text/plain": [
       "1.0    11253\n",
       "2.0     2322\n",
       "5.0     1045\n",
       "3.0      676\n",
       "4.0      328\n",
       "6.0      302\n",
       "1.3        1\n",
       "Name: passenger_count, dtype: int64"
      ]
     },
     "execution_count": 23,
     "metadata": {},
     "output_type": "execute_result"
    }
   ],
   "source": [
    "train['passenger_count'].value_counts()"
   ]
  },
  {
   "cell_type": "code",
   "execution_count": 24,
   "metadata": {},
   "outputs": [],
   "source": [
    "# passanger count can't be 1.3 so we will delete 1.3\n",
    "train= train.drop(train[train['passenger_count'] ==1.3].index, axis = 0) "
   ]
  },
  {
   "cell_type": "code",
   "execution_count": 25,
   "metadata": {},
   "outputs": [
    {
     "data": {
      "text/plain": [
       "1.0    11253\n",
       "2.0     2322\n",
       "5.0     1045\n",
       "3.0      676\n",
       "4.0      328\n",
       "6.0      302\n",
       "Name: passenger_count, dtype: int64"
      ]
     },
     "execution_count": 25,
     "metadata": {},
     "output_type": "execute_result"
    }
   ],
   "source": [
    "train['passenger_count'].value_counts()"
   ]
  },
  {
   "cell_type": "code",
   "execution_count": 26,
   "metadata": {},
   "outputs": [
    {
     "data": {
      "text/plain": [
       "array([1, 2, 3, 4, 5, 6], dtype=int64)"
      ]
     },
     "execution_count": 26,
     "metadata": {},
     "output_type": "execute_result"
    }
   ],
   "source": [
    "test['passenger_count'].unique()"
   ]
  },
  {
   "cell_type": "code",
   "execution_count": 27,
   "metadata": {},
   "outputs": [
    {
     "name": "stdout",
     "output_type": "stream",
     "text": [
      "pickup_longitude above 180=0\n",
      "pickup_longitude below -180=0\n",
      "pickup_latitude above 90=1\n",
      "pickup_latitude below -90=0\n",
      "dropoff_longitude above 180=0\n",
      "dropoff_longitude below -180=0\n",
      "dropoff_latitude below -90=0\n",
      "dropoff_latitude above 90=0\n"
     ]
    }
   ],
   "source": [
    "#Latitudes range from -90 to 90.Longitudes range from -180 to 180. Removing which does not satisfy these ranges\n",
    "print('pickup_longitude above 180={}'.format(sum(train['pickup_longitude']>180)))\n",
    "print('pickup_longitude below -180={}'.format(sum(train['pickup_longitude']<-180)))\n",
    "print('pickup_latitude above 90={}'.format(sum(train['pickup_latitude']>90)))\n",
    "print('pickup_latitude below -90={}'.format(sum(train['pickup_latitude']<-90)))\n",
    "print('dropoff_longitude above 180={}'.format(sum(train['dropoff_longitude']>180)))\n",
    "print('dropoff_longitude below -180={}'.format(sum(train['dropoff_longitude']<-180)))\n",
    "print('dropoff_latitude below -90={}'.format(sum(train['dropoff_latitude']<-90)))\n",
    "print('dropoff_latitude above 90={}'.format(sum(train['dropoff_latitude']>90)))"
   ]
  },
  {
   "cell_type": "code",
   "execution_count": 28,
   "metadata": {},
   "outputs": [
    {
     "name": "stdout",
     "output_type": "stream",
     "text": [
      "pickup_longitude equal to 0=311\n",
      "pickup_latitude equal to 0=311\n",
      "dropoff_longitude equal to 0=312\n",
      "dropoff_latitude equal to 0=310\n"
     ]
    }
   ],
   "source": [
    "#There is only one value which above 90 in variable pickup_latitude.So we will remove it with nan.\n",
    "#Also we will see if there are any values equal to 0.\n",
    "for i in ['pickup_longitude','pickup_latitude','dropoff_longitude','dropoff_latitude']:\n",
    "    print(i,'equal to 0={}'.format(sum(train[i]==0)))"
   ]
  },
  {
   "cell_type": "code",
   "execution_count": 29,
   "metadata": {},
   "outputs": [],
   "source": [
    "#There are more than 300 values whose longitudes and latitudes are eual to zero. so we will remove them \n",
    "#removing value which is above 90\n",
    "train = train.drop(train[train['pickup_latitude']>90].index, axis=0)\n",
    "#removing zero values\n",
    "for i in ['pickup_longitude','pickup_latitude','dropoff_longitude','dropoff_latitude']:\n",
    "    train = train.drop(train[train[i]==0].index, axis=0)"
   ]
  },
  {
   "cell_type": "code",
   "execution_count": 30,
   "metadata": {},
   "outputs": [
    {
     "data": {
      "text/plain": [
       "(15658, 7)"
      ]
     },
     "execution_count": 30,
     "metadata": {},
     "output_type": "execute_result"
    }
   ],
   "source": [
    "train.shape"
   ]
  },
  {
   "cell_type": "code",
   "execution_count": 31,
   "metadata": {},
   "outputs": [],
   "source": [
    "# Now we will extract year, month, day of week, hour from pickup_datetime to check wheather any effect of these attributes on fare_amount\n",
    "# Bfore that we need to dro missing columns in pickup_datetime variable.\n",
    "# Removing missing value in pickup_datetime\n",
    "index_names = train[train['pickup_datetime'].isnull()].index\n",
    "index_names\n",
    "train.drop(index_names, inplace = True)"
   ]
  },
  {
   "cell_type": "code",
   "execution_count": 32,
   "metadata": {},
   "outputs": [
    {
     "data": {
      "text/plain": [
       "0"
      ]
     },
     "execution_count": 32,
     "metadata": {},
     "output_type": "execute_result"
    }
   ],
   "source": [
    "train['pickup_datetime'].isnull().sum()"
   ]
  },
  {
   "cell_type": "code",
   "execution_count": null,
   "metadata": {},
   "outputs": [],
   "source": []
  },
  {
   "cell_type": "code",
   "execution_count": 33,
   "metadata": {},
   "outputs": [],
   "source": [
    "# we will combine both the train and test data because we need to extract these attributes from train data also\n",
    "data = [train,test]\n",
    "for i in data:\n",
    "    i[\"year\"] = i[\"pickup_datetime\"].apply(lambda row: row.year)\n",
    "    i[\"month\"] = i[\"pickup_datetime\"].apply(lambda row: row.month)\n",
    "    i[\"day_of_week\"] = i[\"pickup_datetime\"].apply(lambda row: row.dayofweek)\n",
    "    i[\"hour\"] = i[\"pickup_datetime\"].apply(lambda row: row.hour)"
   ]
  },
  {
   "cell_type": "code",
   "execution_count": 34,
   "metadata": {},
   "outputs": [
    {
     "data": {
      "text/plain": [
       "(Index(['fare_amount', 'pickup_datetime', 'pickup_longitude', 'pickup_latitude',\n",
       "        'dropoff_longitude', 'dropoff_latitude', 'passenger_count', 'year',\n",
       "        'month', 'day_of_week', 'hour'],\n",
       "       dtype='object'),\n",
       " Index(['pickup_datetime', 'pickup_longitude', 'pickup_latitude',\n",
       "        'dropoff_longitude', 'dropoff_latitude', 'passenger_count', 'year',\n",
       "        'month', 'day_of_week', 'hour'],\n",
       "       dtype='object'))"
      ]
     },
     "execution_count": 34,
     "metadata": {},
     "output_type": "execute_result"
    }
   ],
   "source": [
    "train.columns , test.columns"
   ]
  },
  {
   "cell_type": "code",
   "execution_count": 36,
   "metadata": {},
   "outputs": [
    {
     "data": {
      "text/plain": [
       "Text(0.5, 0.98, 'normality graph for fare_amount')"
      ]
     },
     "execution_count": 36,
     "metadata": {},
     "output_type": "execute_result"
    },
    {
     "data": {
      "image/png": "[encoded data removed]",
      "text/plain": [
       "<Figure size 432x288 with 1 Axes>"
      ]
     },
     "metadata": {
      "needs_background": "light"
     },
     "output_type": "display_data"
    }
   ],
   "source": [
    "##################################### Univariate Analysis ###################################\n",
    "# distribution of fare_amount \n",
    "sns.distplot(train['fare_amount'], color = 'blue', bins = 50)\n",
    "plt.suptitle('normality graph for fare_amount')"
   ]
  },
  {
   "cell_type": "code",
   "execution_count": 37,
   "metadata": {},
   "outputs": [
    {
     "name": "stdout",
     "output_type": "stream",
     "text": [
      "skewness= 10.708226936176576 kurtosis= 343.1026732816111\n"
     ]
    }
   ],
   "source": [
    "skewness = train['fare_amount'].skew()\n",
    "kurtosis = train['fare_amount'].kurt()\n",
    "print('skewness=',skewness,'kurtosis=',kurtosis)"
   ]
  },
  {
   "cell_type": "code",
   "execution_count": 38,
   "metadata": {},
   "outputs": [
    {
     "data": {
      "text/plain": [
       "count    15635.000000\n",
       "mean        11.366476\n",
       "std         10.785706\n",
       "min          1.140000\n",
       "25%          6.000000\n",
       "50%          8.500000\n",
       "75%         12.500000\n",
       "max        453.000000\n",
       "Name: fare_amount, dtype: float64"
      ]
     },
     "execution_count": 38,
     "metadata": {},
     "output_type": "execute_result"
    }
   ],
   "source": [
    "train['fare_amount'].describe()"
   ]
  },
  {
   "cell_type": "code",
   "execution_count": 39,
   "metadata": {},
   "outputs": [],
   "source": [
    "# Here we can see that the fare amount is not normally distributed, it is positively skewed since it's skewness is 10.7\n",
    "# we will check the distribution of longitude and latitude after calculating istance from these varables in feature engineering step."
   ]
  },
  {
   "cell_type": "code",
   "execution_count": 40,
   "metadata": {
    "scrolled": true
   },
   "outputs": [
    {
     "data": {
      "text/plain": [
       "Text(0.5, 0.98, 'demand of cab based on year')"
      ]
     },
     "execution_count": 40,
     "metadata": {},
     "output_type": "execute_result"
    },
    {
     "data": {
      "image/png": "[encoded data removed]",
      "text/plain": [
       "<Figure size 720x504 with 1 Axes>"
      ]
     },
     "metadata": {
      "needs_background": "light"
     },
     "output_type": "display_data"
    }
   ],
   "source": [
    "####################################### Bivariate Analysis #########################################\n",
    "# Now we will visualise the count plots based on these attributes\n",
    "#count plot for the attribute 'year'\n",
    "plt.figure(figsize=(10,7))\n",
    "sns.countplot(train['year'])\n",
    "plt.suptitle('demand of cab based on year')"
   ]
  },
  {
   "cell_type": "code",
   "execution_count": 41,
   "metadata": {},
   "outputs": [
    {
     "data": {
      "text/plain": [
       "Text(0.5, 0.98, 'demand of cab based on months')"
      ]
     },
     "execution_count": 41,
     "metadata": {},
     "output_type": "execute_result"
    },
    {
     "data": {
      "image/png": "[encoded data removed]",
      "text/plain": [
       "<Figure size 720x504 with 1 Axes>"
      ]
     },
     "metadata": {
      "needs_background": "light"
     },
     "output_type": "display_data"
    }
   ],
   "source": [
    "#count plot for the attribute 'month'\n",
    "plt.figure(figsize=(10,7))\n",
    "sns.countplot(train['month'])\n",
    "plt.suptitle('demand of cab based on months')\n"
   ]
  },
  {
   "cell_type": "code",
   "execution_count": 42,
   "metadata": {},
   "outputs": [
    {
     "data": {
      "text/plain": [
       "Text(0.5, 0.98, 'demand of cab based on weekdays/weekends')"
      ]
     },
     "execution_count": 42,
     "metadata": {},
     "output_type": "execute_result"
    },
    {
     "data": {
      "image/png": "[encoded data removed]",
      "text/plain": [
       "<Figure size 720x504 with 1 Axes>"
      ]
     },
     "metadata": {
      "needs_background": "light"
     },
     "output_type": "display_data"
    }
   ],
   "source": [
    "#count plot for the attribute 'day of week'\n",
    "plt.figure(figsize=(10,7))\n",
    "sns.countplot(train['day_of_week'])\n",
    "plt.suptitle('demand of cab based on weekdays/weekends')"
   ]
  },
  {
   "cell_type": "code",
   "execution_count": 43,
   "metadata": {},
   "outputs": [
    {
     "data": {
      "text/plain": [
       "Text(0.5, 0.98, 'demand of cab based on session in a ')"
      ]
     },
     "execution_count": 43,
     "metadata": {},
     "output_type": "execute_result"
    },
    {
     "data": {
      "image/png": "[encoded data removed]",
      "text/plain": [
       "<Figure size 720x504 with 1 Axes>"
      ]
     },
     "metadata": {
      "needs_background": "light"
     },
     "output_type": "display_data"
    }
   ],
   "source": [
    "# count plot for the attribute hour\n",
    "plt.figure(figsize=(10,7))\n",
    "sns.countplot(train['hour'])\n",
    "plt.suptitle('demand of cab based on session in a ')"
   ]
  },
  {
   "cell_type": "code",
   "execution_count": 44,
   "metadata": {},
   "outputs": [
    {
     "data": {
      "image/png": "[encoded data removed]",
      "text/plain": [
       "<Figure size 720x504 with 1 Axes>"
      ]
     },
     "metadata": {
      "needs_background": "light"
     },
     "output_type": "display_data"
    }
   ],
   "source": [
    "# now we will check the relationship between datetime attributes and fare_amount\n",
    "#Relationship between Time and Fare\n",
    "plt.figure(figsize=(10,7))\n",
    "plt.scatter(x=train['hour'], y=train['fare_amount'], s=10)\n",
    "plt.suptitle('hour vs fare_amount')\n",
    "plt.xlabel('hour')\n",
    "plt.ylabel('Fare')\n",
    "plt.show()"
   ]
  },
  {
   "cell_type": "code",
   "execution_count": 45,
   "metadata": {},
   "outputs": [
    {
     "data": {
      "image/png": "[encoded data removed]",
      "text/plain": [
       "<Figure size 720x504 with 1 Axes>"
      ]
     },
     "metadata": {
      "needs_background": "light"
     },
     "output_type": "display_data"
    }
   ],
   "source": [
    "\n",
    "#Relationships between day_of_week and Fare\n",
    "plt.figure(figsize=(10,7))\n",
    "plt.scatter(x=train['day_of_week'], y=train['fare_amount'], s=10)\n",
    "plt.suptitle('day_aof week vs fare_amount')\n",
    "plt.xlabel('day_of_week')\n",
    "plt.ylabel('Fare')\n",
    "plt.show()"
   ]
  },
  {
   "cell_type": "code",
   "execution_count": 46,
   "metadata": {},
   "outputs": [],
   "source": [
    "df = train.copy()"
   ]
  },
  {
   "cell_type": "code",
   "execution_count": 47,
   "metadata": {},
   "outputs": [
    {
     "data": {
      "text/html": [
       "<div>\n",
       "<style scoped>\n",
       "    .dataframe tbody tr th:only-of-type {\n",
       "        vertical-align: middle;\n",
       "    }\n",
       "\n",
       "    .dataframe tbody tr th {\n",
       "        vertical-align: top;\n",
       "    }\n",
       "\n",
       "    .dataframe thead th {\n",
       "        text-align: right;\n",
       "    }\n",
       "</style>\n",
       "<table border=\"1\" class=\"dataframe\">\n",
       "  <thead>\n",
       "    <tr style=\"text-align: right;\">\n",
       "      <th></th>\n",
       "      <th>index</th>\n",
       "      <th>0</th>\n",
       "    </tr>\n",
       "  </thead>\n",
       "  <tbody>\n",
       "    <tr>\n",
       "      <th>0</th>\n",
       "      <td>fare_amount</td>\n",
       "      <td>22</td>\n",
       "    </tr>\n",
       "    <tr>\n",
       "      <th>1</th>\n",
       "      <td>pickup_datetime</td>\n",
       "      <td>0</td>\n",
       "    </tr>\n",
       "    <tr>\n",
       "      <th>2</th>\n",
       "      <td>pickup_longitude</td>\n",
       "      <td>0</td>\n",
       "    </tr>\n",
       "    <tr>\n",
       "      <th>3</th>\n",
       "      <td>pickup_latitude</td>\n",
       "      <td>0</td>\n",
       "    </tr>\n",
       "    <tr>\n",
       "      <th>4</th>\n",
       "      <td>dropoff_longitude</td>\n",
       "      <td>0</td>\n",
       "    </tr>\n",
       "    <tr>\n",
       "      <th>5</th>\n",
       "      <td>dropoff_latitude</td>\n",
       "      <td>0</td>\n",
       "    </tr>\n",
       "    <tr>\n",
       "      <th>6</th>\n",
       "      <td>passenger_count</td>\n",
       "      <td>55</td>\n",
       "    </tr>\n",
       "    <tr>\n",
       "      <th>7</th>\n",
       "      <td>year</td>\n",
       "      <td>0</td>\n",
       "    </tr>\n",
       "    <tr>\n",
       "      <th>8</th>\n",
       "      <td>month</td>\n",
       "      <td>0</td>\n",
       "    </tr>\n",
       "    <tr>\n",
       "      <th>9</th>\n",
       "      <td>day_of_week</td>\n",
       "      <td>0</td>\n",
       "    </tr>\n",
       "    <tr>\n",
       "      <th>10</th>\n",
       "      <td>hour</td>\n",
       "      <td>0</td>\n",
       "    </tr>\n",
       "  </tbody>\n",
       "</table>\n",
       "</div>"
      ],
      "text/plain": [
       "                index   0\n",
       "0         fare_amount  22\n",
       "1     pickup_datetime   0\n",
       "2    pickup_longitude   0\n",
       "3     pickup_latitude   0\n",
       "4   dropoff_longitude   0\n",
       "5    dropoff_latitude   0\n",
       "6     passenger_count  55\n",
       "7                year   0\n",
       "8               month   0\n",
       "9         day_of_week   0\n",
       "10               hour   0"
      ]
     },
     "execution_count": 47,
     "metadata": {},
     "output_type": "execute_result"
    }
   ],
   "source": [
    "####################################### Missing Value Analysis #####################################################\n",
    "#chcking for missing values in train data set.\n",
    "missing_val = pd.DataFrame(train.isnull().sum())\n",
    "#Reset index\n",
    "missing_val = missing_val.reset_index()\n",
    "missing_val"
   ]
  },
  {
   "cell_type": "code",
   "execution_count": 48,
   "metadata": {},
   "outputs": [
    {
     "data": {
      "text/html": [
       "<div>\n",
       "<style scoped>\n",
       "    .dataframe tbody tr th:only-of-type {\n",
       "        vertical-align: middle;\n",
       "    }\n",
       "\n",
       "    .dataframe tbody tr th {\n",
       "        vertical-align: top;\n",
       "    }\n",
       "\n",
       "    .dataframe thead th {\n",
       "        text-align: right;\n",
       "    }\n",
       "</style>\n",
       "<table border=\"1\" class=\"dataframe\">\n",
       "  <thead>\n",
       "    <tr style=\"text-align: right;\">\n",
       "      <th></th>\n",
       "      <th>Variables</th>\n",
       "      <th>Missing_percentage</th>\n",
       "    </tr>\n",
       "  </thead>\n",
       "  <tbody>\n",
       "    <tr>\n",
       "      <th>0</th>\n",
       "      <td>passenger_count</td>\n",
       "      <td>0.351281</td>\n",
       "    </tr>\n",
       "    <tr>\n",
       "      <th>1</th>\n",
       "      <td>fare_amount</td>\n",
       "      <td>0.140512</td>\n",
       "    </tr>\n",
       "    <tr>\n",
       "      <th>2</th>\n",
       "      <td>pickup_datetime</td>\n",
       "      <td>0.000000</td>\n",
       "    </tr>\n",
       "    <tr>\n",
       "      <th>3</th>\n",
       "      <td>pickup_longitude</td>\n",
       "      <td>0.000000</td>\n",
       "    </tr>\n",
       "    <tr>\n",
       "      <th>4</th>\n",
       "      <td>pickup_latitude</td>\n",
       "      <td>0.000000</td>\n",
       "    </tr>\n",
       "    <tr>\n",
       "      <th>5</th>\n",
       "      <td>dropoff_longitude</td>\n",
       "      <td>0.000000</td>\n",
       "    </tr>\n",
       "    <tr>\n",
       "      <th>6</th>\n",
       "      <td>dropoff_latitude</td>\n",
       "      <td>0.000000</td>\n",
       "    </tr>\n",
       "    <tr>\n",
       "      <th>7</th>\n",
       "      <td>year</td>\n",
       "      <td>0.000000</td>\n",
       "    </tr>\n",
       "    <tr>\n",
       "      <th>8</th>\n",
       "      <td>month</td>\n",
       "      <td>0.000000</td>\n",
       "    </tr>\n",
       "    <tr>\n",
       "      <th>9</th>\n",
       "      <td>day_of_week</td>\n",
       "      <td>0.000000</td>\n",
       "    </tr>\n",
       "    <tr>\n",
       "      <th>10</th>\n",
       "      <td>hour</td>\n",
       "      <td>0.000000</td>\n",
       "    </tr>\n",
       "  </tbody>\n",
       "</table>\n",
       "</div>"
      ],
      "text/plain": [
       "            Variables  Missing_percentage\n",
       "0     passenger_count            0.351281\n",
       "1         fare_amount            0.140512\n",
       "2     pickup_datetime            0.000000\n",
       "3    pickup_longitude            0.000000\n",
       "4     pickup_latitude            0.000000\n",
       "5   dropoff_longitude            0.000000\n",
       "6    dropoff_latitude            0.000000\n",
       "7                year            0.000000\n",
       "8               month            0.000000\n",
       "9         day_of_week            0.000000\n",
       "10               hour            0.000000"
      ]
     },
     "execution_count": 48,
     "metadata": {},
     "output_type": "execute_result"
    }
   ],
   "source": [
    "# Calculating missing percentage\n",
    "#Rename variable\n",
    "missing_val = missing_val.rename(columns = {'index': 'Variables', 0: 'Missing_percentage'})\n",
    "missing_val['Missing_percentage'] = (missing_val['Missing_percentage']/len(train))*100\n",
    "#descending order\n",
    "missing_val = missing_val.sort_values('Missing_percentage', ascending = False).reset_index(drop = True)\n",
    "missing_val"
   ]
  },
  {
   "cell_type": "code",
   "execution_count": 49,
   "metadata": {},
   "outputs": [],
   "source": [
    "# Here we can see that there are 24 missing values in fare_amount and 55 in passenger count.\n",
    "# we will impute pasanger_count and fare_amount.\n"
   ]
  },
  {
   "cell_type": "code",
   "execution_count": 50,
   "metadata": {},
   "outputs": [
    {
     "name": "stdout",
     "output_type": "stream",
     "text": [
      "<class 'pandas.core.frame.DataFrame'>\n",
      "Int64Index: 15657 entries, 0 to 16066\n",
      "Data columns (total 11 columns):\n",
      "fare_amount          15635 non-null float64\n",
      "pickup_datetime      15657 non-null datetime64[ns, UTC]\n",
      "pickup_longitude     15657 non-null float64\n",
      "pickup_latitude      15657 non-null float64\n",
      "dropoff_longitude    15657 non-null float64\n",
      "dropoff_latitude     15657 non-null float64\n",
      "passenger_count      15602 non-null float64\n",
      "year                 15657 non-null int64\n",
      "month                15657 non-null int64\n",
      "day_of_week          15657 non-null int64\n",
      "hour                 15657 non-null int64\n",
      "dtypes: datetime64[ns, UTC](1), float64(6), int64(4)\n",
      "memory usage: 2.1 MB\n"
     ]
    }
   ],
   "source": [
    "train.info()"
   ]
  },
  {
   "cell_type": "code",
   "execution_count": 51,
   "metadata": {},
   "outputs": [
    {
     "data": {
      "text/plain": [
       "2.0"
      ]
     },
     "execution_count": 51,
     "metadata": {},
     "output_type": "execute_result"
    }
   ],
   "source": [
    "#now we will impute the missing values\n",
    "# choose a random variable to replace it as na\n",
    "train['passenger_count'].loc[900]"
   ]
  },
  {
   "cell_type": "code",
   "execution_count": 52,
   "metadata": {},
   "outputs": [
    {
     "name": "stderr",
     "output_type": "stream",
     "text": [
      "C:\\Users\\DELL\\Anaconda3\\lib\\site-packages\\pandas\\core\\indexing.py:190: SettingWithCopyWarning: \n",
      "A value is trying to be set on a copy of a slice from a DataFrame\n",
      "\n",
      "See the caveats in the documentation: http://pandas.pydata.org/pandas-docs/stable/indexing.html#indexing-view-versus-copy\n",
      "  self._setitem_with_indexer(indexer, value)\n"
     ]
    },
    {
     "data": {
      "text/plain": [
       "nan"
      ]
     },
     "execution_count": 52,
     "metadata": {},
     "output_type": "execute_result"
    }
   ],
   "source": [
    "#Replacing 2.0 with nan\n",
    "train['passenger_count'].loc[900] = np.nan\n",
    "train['passenger_count'].loc[900]"
   ]
  },
  {
   "cell_type": "code",
   "execution_count": 53,
   "metadata": {},
   "outputs": [
    {
     "data": {
      "text/plain": [
       "1.0"
      ]
     },
     "execution_count": 53,
     "metadata": {},
     "output_type": "execute_result"
    }
   ],
   "source": [
    "#impute with mode\n",
    "train['passenger_count'].fillna(train['passenger_count'].mode()[0]).loc[900]"
   ]
  },
  {
   "cell_type": "code",
   "execution_count": 54,
   "metadata": {},
   "outputs": [
    {
     "name": "stdout",
     "output_type": "stream",
     "text": [
      "fare_amount at loc-900:5.7\n",
      "Value after replacing with nan:nan\n",
      "Value if imputed with mean:11.366838301138532\n",
      "Value if imputed with median:8.5\n"
     ]
    }
   ],
   "source": [
    "# now we impute the fare_amount\n",
    "x=train['fare_amount'].loc[900]\n",
    "print('fare_amount at loc-900:{}'.format(x))\n",
    "# Replacing 1.0 with NA\n",
    "train['fare_amount'].loc[900] = np.nan\n",
    "print('Value after replacing with nan:{}'.format(train['fare_amount'].loc[900]))\n",
    "# Impute with mean\n",
    "print('Value if imputed with mean:{}'.format(train['fare_amount'].fillna(train['fare_amount'].mean()).loc[900]))\n",
    "# Impute with median\n",
    "print('Value if imputed with median:{}'.format(train['fare_amount'].fillna(train['fare_amount'].median()).loc[900]))"
   ]
  },
  {
   "cell_type": "code",
   "execution_count": 55,
   "metadata": {},
   "outputs": [
    {
     "data": {
      "text/plain": [
       "fare_amount          10.785956\n",
       "pickup_longitude      2.659390\n",
       "pickup_latitude       2.613639\n",
       "dropoff_longitude     2.711181\n",
       "dropoff_latitude      2.632736\n",
       "passenger_count       1.266231\n",
       "year                  1.868888\n",
       "month                 3.446475\n",
       "day_of_week           1.969788\n",
       "hour                  6.508122\n",
       "dtype: float64"
      ]
     },
     "execution_count": 55,
     "metadata": {},
     "output_type": "execute_result"
    }
   ],
   "source": [
    "train.std()"
   ]
  },
  {
   "cell_type": "code",
   "execution_count": 56,
   "metadata": {},
   "outputs": [
    {
     "data": {
      "text/plain": [
       "Index(['fare_amount', 'pickup_datetime', 'pickup_longitude', 'pickup_latitude',\n",
       "       'dropoff_longitude', 'dropoff_latitude', 'passenger_count', 'year',\n",
       "       'month', 'day_of_week', 'hour'],\n",
       "      dtype='object')"
      ]
     },
     "execution_count": 56,
     "metadata": {},
     "output_type": "execute_result"
    }
   ],
   "source": [
    "train.columns"
   ]
  },
  {
   "cell_type": "code",
   "execution_count": 57,
   "metadata": {},
   "outputs": [],
   "source": [
    "columns=['fare_amount', 'pickup_longitude', 'pickup_latitude','dropoff_longitude', 'dropoff_latitude', 'passenger_count']"
   ]
  },
  {
   "cell_type": "code",
   "execution_count": 58,
   "metadata": {},
   "outputs": [],
   "source": [
    "pickup_datetime =pd.DataFrame(train[[\"pickup_datetime\",\"year\",\"month\",\"day_of_week\",\"hour\"]])"
   ]
  },
  {
   "cell_type": "code",
   "execution_count": 59,
   "metadata": {},
   "outputs": [],
   "source": [
    "# we will drop pickup_datetime variables from train data set otherwise it will create many problems in our further calculation\n",
    "train = train.drop([\"pickup_datetime\",\"year\",\"month\",\"day_of_week\",\"hour\"], axis =1)"
   ]
  },
  {
   "cell_type": "code",
   "execution_count": 60,
   "metadata": {
    "scrolled": true
   },
   "outputs": [
    {
     "name": "stdout",
     "output_type": "stream",
     "text": [
      "Imputing row 1/15657 with 0 missing, elapsed time: 260.826\n",
      "Imputing row 101/15657 with 0 missing, elapsed time: 280.761\n",
      "Imputing row 201/15657 with 0 missing, elapsed time: 283.356\n",
      "Imputing row 301/15657 with 0 missing, elapsed time: 284.670\n",
      "Imputing row 401/15657 with 0 missing, elapsed time: 285.042\n",
      "Imputing row 501/15657 with 0 missing, elapsed time: 288.426\n",
      "Imputing row 601/15657 with 0 missing, elapsed time: 293.198\n",
      "Imputing row 701/15657 with 0 missing, elapsed time: 293.647\n",
      "Imputing row 801/15657 with 0 missing, elapsed time: 294.212\n",
      "Imputing row 901/15657 with 0 missing, elapsed time: 294.857\n",
      "Imputing row 1001/15657 with 0 missing, elapsed time: 295.024\n",
      "Imputing row 1101/15657 with 0 missing, elapsed time: 295.028\n",
      "Imputing row 1201/15657 with 0 missing, elapsed time: 295.030\n",
      "Imputing row 1301/15657 with 0 missing, elapsed time: 295.032\n",
      "Imputing row 1401/15657 with 0 missing, elapsed time: 295.213\n",
      "Imputing row 1501/15657 with 0 missing, elapsed time: 295.281\n",
      "Imputing row 1601/15657 with 0 missing, elapsed time: 295.288\n",
      "Imputing row 1701/15657 with 0 missing, elapsed time: 295.295\n",
      "Imputing row 1801/15657 with 0 missing, elapsed time: 295.301\n",
      "Imputing row 1901/15657 with 0 missing, elapsed time: 295.305\n",
      "Imputing row 2001/15657 with 0 missing, elapsed time: 295.392\n",
      "Imputing row 2101/15657 with 0 missing, elapsed time: 295.446\n",
      "Imputing row 2201/15657 with 0 missing, elapsed time: 295.483\n",
      "Imputing row 2301/15657 with 0 missing, elapsed time: 295.559\n",
      "Imputing row 2401/15657 with 0 missing, elapsed time: 295.571\n",
      "Imputing row 2501/15657 with 0 missing, elapsed time: 295.573\n",
      "Imputing row 2601/15657 with 0 missing, elapsed time: 295.575\n",
      "Imputing row 2701/15657 with 0 missing, elapsed time: 295.577\n",
      "Imputing row 2801/15657 with 0 missing, elapsed time: 295.579\n",
      "Imputing row 2901/15657 with 0 missing, elapsed time: 295.580\n",
      "Imputing row 3001/15657 with 0 missing, elapsed time: 295.582\n",
      "Imputing row 3101/15657 with 0 missing, elapsed time: 295.584\n",
      "Imputing row 3201/15657 with 0 missing, elapsed time: 295.586\n",
      "Imputing row 3301/15657 with 0 missing, elapsed time: 295.624\n",
      "Imputing row 3401/15657 with 0 missing, elapsed time: 295.627\n",
      "Imputing row 3501/15657 with 0 missing, elapsed time: 295.629\n",
      "Imputing row 3601/15657 with 0 missing, elapsed time: 295.631\n",
      "Imputing row 3701/15657 with 0 missing, elapsed time: 295.633\n",
      "Imputing row 3801/15657 with 0 missing, elapsed time: 295.634\n",
      "Imputing row 3901/15657 with 0 missing, elapsed time: 295.636\n",
      "Imputing row 4001/15657 with 0 missing, elapsed time: 295.638\n",
      "Imputing row 4101/15657 with 0 missing, elapsed time: 295.640\n",
      "Imputing row 4201/15657 with 0 missing, elapsed time: 295.642\n",
      "Imputing row 4301/15657 with 0 missing, elapsed time: 295.644\n",
      "Imputing row 4401/15657 with 0 missing, elapsed time: 295.646\n",
      "Imputing row 4501/15657 with 0 missing, elapsed time: 295.648\n",
      "Imputing row 4601/15657 with 0 missing, elapsed time: 295.650\n",
      "Imputing row 4701/15657 with 0 missing, elapsed time: 295.653\n",
      "Imputing row 4801/15657 with 0 missing, elapsed time: 295.654\n",
      "Imputing row 4901/15657 with 0 missing, elapsed time: 295.656\n",
      "Imputing row 5001/15657 with 0 missing, elapsed time: 295.658\n",
      "Imputing row 5101/15657 with 0 missing, elapsed time: 295.660\n",
      "Imputing row 5201/15657 with 0 missing, elapsed time: 295.661\n",
      "Imputing row 5301/15657 with 0 missing, elapsed time: 295.662\n",
      "Imputing row 5401/15657 with 0 missing, elapsed time: 295.663\n",
      "Imputing row 5501/15657 with 0 missing, elapsed time: 295.665\n",
      "Imputing row 5601/15657 with 0 missing, elapsed time: 295.666\n",
      "Imputing row 5701/15657 with 0 missing, elapsed time: 295.667\n",
      "Imputing row 5801/15657 with 0 missing, elapsed time: 295.668\n",
      "Imputing row 5901/15657 with 0 missing, elapsed time: 295.669\n",
      "Imputing row 6001/15657 with 0 missing, elapsed time: 295.670\n",
      "Imputing row 6101/15657 with 0 missing, elapsed time: 295.671\n",
      "Imputing row 6201/15657 with 0 missing, elapsed time: 295.673\n",
      "Imputing row 6301/15657 with 0 missing, elapsed time: 295.674\n",
      "Imputing row 6401/15657 with 0 missing, elapsed time: 295.675\n",
      "Imputing row 6501/15657 with 0 missing, elapsed time: 295.676\n",
      "Imputing row 6601/15657 with 0 missing, elapsed time: 295.677\n",
      "Imputing row 6701/15657 with 0 missing, elapsed time: 295.678\n",
      "Imputing row 6801/15657 with 0 missing, elapsed time: 295.679\n",
      "Imputing row 6901/15657 with 0 missing, elapsed time: 295.680\n",
      "Imputing row 7001/15657 with 0 missing, elapsed time: 295.681\n",
      "Imputing row 7101/15657 with 0 missing, elapsed time: 295.683\n",
      "Imputing row 7201/15657 with 0 missing, elapsed time: 295.684\n",
      "Imputing row 7301/15657 with 0 missing, elapsed time: 295.685\n",
      "Imputing row 7401/15657 with 0 missing, elapsed time: 295.686\n",
      "Imputing row 7501/15657 with 0 missing, elapsed time: 295.687\n",
      "Imputing row 7601/15657 with 1 missing, elapsed time: 295.838\n",
      "Imputing row 7701/15657 with 0 missing, elapsed time: 296.492\n",
      "Imputing row 7801/15657 with 1 missing, elapsed time: 296.825\n",
      "Imputing row 7901/15657 with 0 missing, elapsed time: 297.065\n",
      "Imputing row 8001/15657 with 0 missing, elapsed time: 297.253\n",
      "Imputing row 8101/15657 with 0 missing, elapsed time: 297.264\n",
      "Imputing row 8201/15657 with 0 missing, elapsed time: 297.266\n",
      "Imputing row 8301/15657 with 0 missing, elapsed time: 297.269\n",
      "Imputing row 8401/15657 with 0 missing, elapsed time: 297.272\n",
      "Imputing row 8501/15657 with 0 missing, elapsed time: 297.275\n",
      "Imputing row 8601/15657 with 0 missing, elapsed time: 297.279\n",
      "Imputing row 8701/15657 with 0 missing, elapsed time: 297.282\n",
      "Imputing row 8801/15657 with 0 missing, elapsed time: 297.284\n",
      "Imputing row 8901/15657 with 0 missing, elapsed time: 297.285\n",
      "Imputing row 9001/15657 with 0 missing, elapsed time: 297.286\n",
      "Imputing row 9101/15657 with 0 missing, elapsed time: 297.287\n",
      "Imputing row 9201/15657 with 0 missing, elapsed time: 297.288\n",
      "Imputing row 9301/15657 with 0 missing, elapsed time: 297.289\n",
      "Imputing row 9401/15657 with 0 missing, elapsed time: 297.290\n",
      "Imputing row 9501/15657 with 0 missing, elapsed time: 297.291\n",
      "Imputing row 9601/15657 with 0 missing, elapsed time: 297.292\n",
      "Imputing row 9701/15657 with 0 missing, elapsed time: 297.293\n",
      "Imputing row 9801/15657 with 0 missing, elapsed time: 297.294\n",
      "Imputing row 9901/15657 with 0 missing, elapsed time: 297.296\n",
      "Imputing row 10001/15657 with 0 missing, elapsed time: 297.304\n",
      "Imputing row 10101/15657 with 0 missing, elapsed time: 297.306\n",
      "Imputing row 10201/15657 with 0 missing, elapsed time: 297.307\n",
      "Imputing row 10301/15657 with 0 missing, elapsed time: 297.308\n",
      "Imputing row 10401/15657 with 0 missing, elapsed time: 297.309\n",
      "Imputing row 10501/15657 with 0 missing, elapsed time: 297.310\n",
      "Imputing row 10601/15657 with 0 missing, elapsed time: 297.311\n",
      "Imputing row 10701/15657 with 0 missing, elapsed time: 297.312\n",
      "Imputing row 10801/15657 with 0 missing, elapsed time: 297.314\n",
      "Imputing row 10901/15657 with 0 missing, elapsed time: 297.315\n",
      "Imputing row 11001/15657 with 0 missing, elapsed time: 297.316\n",
      "Imputing row 11101/15657 with 0 missing, elapsed time: 297.317\n",
      "Imputing row 11201/15657 with 0 missing, elapsed time: 297.318\n",
      "Imputing row 11301/15657 with 0 missing, elapsed time: 297.319\n",
      "Imputing row 11401/15657 with 0 missing, elapsed time: 297.321\n",
      "Imputing row 11501/15657 with 0 missing, elapsed time: 297.322\n",
      "Imputing row 11601/15657 with 0 missing, elapsed time: 297.323\n",
      "Imputing row 11701/15657 with 0 missing, elapsed time: 297.324\n",
      "Imputing row 11801/15657 with 0 missing, elapsed time: 297.325\n",
      "Imputing row 11901/15657 with 0 missing, elapsed time: 297.326\n",
      "Imputing row 12001/15657 with 0 missing, elapsed time: 297.328\n",
      "Imputing row 12101/15657 with 0 missing, elapsed time: 297.329\n",
      "Imputing row 12201/15657 with 0 missing, elapsed time: 297.331\n",
      "Imputing row 12301/15657 with 0 missing, elapsed time: 297.332\n",
      "Imputing row 12401/15657 with 0 missing, elapsed time: 297.333\n",
      "Imputing row 12501/15657 with 0 missing, elapsed time: 297.334\n",
      "Imputing row 12601/15657 with 0 missing, elapsed time: 297.335\n",
      "Imputing row 12701/15657 with 0 missing, elapsed time: 297.336\n",
      "Imputing row 12801/15657 with 0 missing, elapsed time: 297.337\n",
      "Imputing row 12901/15657 with 0 missing, elapsed time: 297.338\n",
      "Imputing row 13001/15657 with 0 missing, elapsed time: 297.339\n",
      "Imputing row 13101/15657 with 0 missing, elapsed time: 297.340\n",
      "Imputing row 13201/15657 with 0 missing, elapsed time: 297.341\n",
      "Imputing row 13301/15657 with 0 missing, elapsed time: 297.341\n",
      "Imputing row 13401/15657 with 0 missing, elapsed time: 297.342\n",
      "Imputing row 13501/15657 with 0 missing, elapsed time: 297.342\n",
      "Imputing row 13601/15657 with 0 missing, elapsed time: 297.343\n",
      "Imputing row 13701/15657 with 0 missing, elapsed time: 297.344\n",
      "Imputing row 13801/15657 with 0 missing, elapsed time: 297.414\n",
      "Imputing row 13901/15657 with 0 missing, elapsed time: 297.416\n",
      "Imputing row 14001/15657 with 0 missing, elapsed time: 297.417\n",
      "Imputing row 14101/15657 with 0 missing, elapsed time: 297.419\n",
      "Imputing row 14201/15657 with 0 missing, elapsed time: 297.420\n",
      "Imputing row 14301/15657 with 0 missing, elapsed time: 297.422\n",
      "Imputing row 14401/15657 with 0 missing, elapsed time: 297.424\n",
      "Imputing row 14501/15657 with 0 missing, elapsed time: 297.532\n",
      "Imputing row 14601/15657 with 0 missing, elapsed time: 297.533\n",
      "Imputing row 14701/15657 with 0 missing, elapsed time: 297.535\n",
      "Imputing row 14801/15657 with 0 missing, elapsed time: 297.537\n",
      "Imputing row 14901/15657 with 0 missing, elapsed time: 297.540\n",
      "Imputing row 15001/15657 with 0 missing, elapsed time: 297.541\n",
      "Imputing row 15101/15657 with 0 missing, elapsed time: 297.543\n",
      "Imputing row 15201/15657 with 0 missing, elapsed time: 297.545\n",
      "Imputing row 15301/15657 with 0 missing, elapsed time: 297.546\n",
      "Imputing row 15401/15657 with 0 missing, elapsed time: 297.547\n",
      "Imputing row 15501/15657 with 0 missing, elapsed time: 297.549\n",
      "Imputing row 15601/15657 with 0 missing, elapsed time: 297.550\n"
     ]
    }
   ],
   "source": [
    "#imputing values with KNN\n",
    "train = pd.DataFrame(KNN(k = 4).fit_transform(train),columns= columns,index = train.index)"
   ]
  },
  {
   "cell_type": "code",
   "execution_count": 61,
   "metadata": {},
   "outputs": [
    {
     "data": {
      "text/plain": [
       "5.582673165501434"
      ]
     },
     "execution_count": 61,
     "metadata": {},
     "output_type": "execute_result"
    }
   ],
   "source": [
    "train['fare_amount'].loc[900]"
   ]
  },
  {
   "cell_type": "code",
   "execution_count": 62,
   "metadata": {},
   "outputs": [
    {
     "data": {
      "text/plain": [
       "2.6987965857798835"
      ]
     },
     "execution_count": 62,
     "metadata": {},
     "output_type": "execute_result"
    }
   ],
   "source": [
    "train['passenger_count'].loc[900]"
   ]
  },
  {
   "cell_type": "code",
   "execution_count": 63,
   "metadata": {},
   "outputs": [
    {
     "data": {
      "text/plain": [
       "fare_amount           5.582673\n",
       "pickup_longitude    -73.971523\n",
       "pickup_latitude      40.757430\n",
       "dropoff_longitude   -73.982030\n",
       "dropoff_latitude     40.744883\n",
       "passenger_count       2.698797\n",
       "Name: 900, dtype: float64"
      ]
     },
     "execution_count": 63,
     "metadata": {},
     "output_type": "execute_result"
    }
   ],
   "source": [
    "train.loc[900]"
   ]
  },
  {
   "cell_type": "code",
   "execution_count": 64,
   "metadata": {},
   "outputs": [],
   "source": [
    "# converting passenger_count to integer\n",
    "train['passenger_count'] = train['passenger_count'].astype('int')"
   ]
  },
  {
   "cell_type": "code",
   "execution_count": 65,
   "metadata": {},
   "outputs": [
    {
     "data": {
      "text/plain": [
       "array([1, 2, 3, 6, 5, 4, 0], dtype=int64)"
      ]
     },
     "execution_count": 65,
     "metadata": {},
     "output_type": "execute_result"
    }
   ],
   "source": [
    "train['passenger_count'].unique()"
   ]
  },
  {
   "cell_type": "code",
   "execution_count": 66,
   "metadata": {},
   "outputs": [
    {
     "name": "stderr",
     "output_type": "stream",
     "text": [
      "C:\\Users\\DELL\\Anaconda3\\lib\\site-packages\\IPython\\core\\interactiveshell.py:3325: FutureWarning: specifying 'categories' or 'ordered' in .astype() is deprecated; pass a CategoricalDtype instead\n",
      "  exec(code_obj, self.user_global_ns, self.user_ns)\n"
     ]
    },
    {
     "data": {
      "text/plain": [
       "[1, 2, 3, 6, 5, 4, 0]\n",
       "Categories (7, int64): [0 < 1 < 2 < 3 < 4 < 5 < 6]"
      ]
     },
     "execution_count": 66,
     "metadata": {},
     "output_type": "execute_result"
    }
   ],
   "source": [
    "train['passenger_count']= train['passenger_count'].round().astype('object').astype('category',ordered= True)\n",
    "train['passenger_count'].unique()"
   ]
  },
  {
   "cell_type": "code",
   "execution_count": 67,
   "metadata": {},
   "outputs": [
    {
     "data": {
      "text/html": [
       "<div>\n",
       "<style scoped>\n",
       "    .dataframe tbody tr th:only-of-type {\n",
       "        vertical-align: middle;\n",
       "    }\n",
       "\n",
       "    .dataframe tbody tr th {\n",
       "        vertical-align: top;\n",
       "    }\n",
       "\n",
       "    .dataframe thead th {\n",
       "        text-align: right;\n",
       "    }\n",
       "</style>\n",
       "<table border=\"1\" class=\"dataframe\">\n",
       "  <thead>\n",
       "    <tr style=\"text-align: right;\">\n",
       "      <th></th>\n",
       "      <th>pickup_datetime</th>\n",
       "      <th>year</th>\n",
       "      <th>month</th>\n",
       "      <th>day_of_week</th>\n",
       "      <th>hour</th>\n",
       "      <th>fare_amount</th>\n",
       "      <th>pickup_longitude</th>\n",
       "      <th>pickup_latitude</th>\n",
       "      <th>dropoff_longitude</th>\n",
       "      <th>dropoff_latitude</th>\n",
       "      <th>passenger_count</th>\n",
       "    </tr>\n",
       "  </thead>\n",
       "  <tbody>\n",
       "    <tr>\n",
       "      <th>0</th>\n",
       "      <td>2009-06-15 17:26:21+00:00</td>\n",
       "      <td>2009</td>\n",
       "      <td>6</td>\n",
       "      <td>0</td>\n",
       "      <td>17</td>\n",
       "      <td>4.5</td>\n",
       "      <td>-73.844311</td>\n",
       "      <td>40.721319</td>\n",
       "      <td>-73.841610</td>\n",
       "      <td>40.712278</td>\n",
       "      <td>1</td>\n",
       "    </tr>\n",
       "    <tr>\n",
       "      <th>1</th>\n",
       "      <td>2010-01-05 16:52:16+00:00</td>\n",
       "      <td>2010</td>\n",
       "      <td>1</td>\n",
       "      <td>1</td>\n",
       "      <td>16</td>\n",
       "      <td>16.9</td>\n",
       "      <td>-74.016048</td>\n",
       "      <td>40.711303</td>\n",
       "      <td>-73.979268</td>\n",
       "      <td>40.782004</td>\n",
       "      <td>1</td>\n",
       "    </tr>\n",
       "    <tr>\n",
       "      <th>2</th>\n",
       "      <td>2011-08-18 00:35:00+00:00</td>\n",
       "      <td>2011</td>\n",
       "      <td>8</td>\n",
       "      <td>3</td>\n",
       "      <td>0</td>\n",
       "      <td>5.7</td>\n",
       "      <td>-73.982738</td>\n",
       "      <td>40.761270</td>\n",
       "      <td>-73.991242</td>\n",
       "      <td>40.750562</td>\n",
       "      <td>2</td>\n",
       "    </tr>\n",
       "    <tr>\n",
       "      <th>3</th>\n",
       "      <td>2012-04-21 04:30:42+00:00</td>\n",
       "      <td>2012</td>\n",
       "      <td>4</td>\n",
       "      <td>5</td>\n",
       "      <td>4</td>\n",
       "      <td>7.7</td>\n",
       "      <td>-73.987130</td>\n",
       "      <td>40.733143</td>\n",
       "      <td>-73.991567</td>\n",
       "      <td>40.758092</td>\n",
       "      <td>1</td>\n",
       "    </tr>\n",
       "    <tr>\n",
       "      <th>4</th>\n",
       "      <td>2010-03-09 07:51:00+00:00</td>\n",
       "      <td>2010</td>\n",
       "      <td>3</td>\n",
       "      <td>1</td>\n",
       "      <td>7</td>\n",
       "      <td>5.3</td>\n",
       "      <td>-73.968095</td>\n",
       "      <td>40.768008</td>\n",
       "      <td>-73.956655</td>\n",
       "      <td>40.783762</td>\n",
       "      <td>1</td>\n",
       "    </tr>\n",
       "  </tbody>\n",
       "</table>\n",
       "</div>"
      ],
      "text/plain": [
       "            pickup_datetime  year  month  day_of_week  hour  fare_amount  \\\n",
       "0 2009-06-15 17:26:21+00:00  2009      6            0    17          4.5   \n",
       "1 2010-01-05 16:52:16+00:00  2010      1            1    16         16.9   \n",
       "2 2011-08-18 00:35:00+00:00  2011      8            3     0          5.7   \n",
       "3 2012-04-21 04:30:42+00:00  2012      4            5     4          7.7   \n",
       "4 2010-03-09 07:51:00+00:00  2010      3            1     7          5.3   \n",
       "\n",
       "   pickup_longitude  pickup_latitude  dropoff_longitude  dropoff_latitude  \\\n",
       "0        -73.844311        40.721319         -73.841610         40.712278   \n",
       "1        -74.016048        40.711303         -73.979268         40.782004   \n",
       "2        -73.982738        40.761270         -73.991242         40.750562   \n",
       "3        -73.987130        40.733143         -73.991567         40.758092   \n",
       "4        -73.968095        40.768008         -73.956655         40.783762   \n",
       "\n",
       "  passenger_count  \n",
       "0               1  \n",
       "1               1  \n",
       "2               2  \n",
       "3               1  \n",
       "4               1  "
      ]
     },
     "execution_count": 67,
     "metadata": {},
     "output_type": "execute_result"
    }
   ],
   "source": [
    "train = pd.merge(pickup_datetime,train,right_index=True,left_index=True)\n",
    "train.head()"
   ]
  },
  {
   "cell_type": "code",
   "execution_count": 68,
   "metadata": {},
   "outputs": [
    {
     "data": {
      "image/png": "[encoded data removed]",
      "text/plain": [
       "<Figure size 1440x360 with 1 Axes>"
      ]
     },
     "metadata": {
      "needs_background": "light"
     },
     "output_type": "display_data"
    }
   ],
   "source": [
    "############################################ Outlier Analysis ##################################################################\n",
    "# Now we'll treat outliers only for fare_amount and we will treat other variables after feature engineering\n",
    "# Detecting outliers using bokplot\n",
    "plt.figure(figsize = (20,5))\n",
    "sns.boxplot(x= train['fare_amount'], data = train,color = 'red', orient = 'h')\n",
    "plt.suptitle('boxplot of Fare_amount')\n",
    "plt.show()"
   ]
  },
  {
   "cell_type": "code",
   "execution_count": 69,
   "metadata": {},
   "outputs": [
    {
     "data": {
      "text/plain": [
       "Text(0.5, 0.98, 'boxplot of fare_amount vs passenger_count')"
      ]
     },
     "execution_count": 69,
     "metadata": {},
     "output_type": "execute_result"
    },
    {
     "data": {
      "image/png": "[encoded data removed]",
      "text/plain": [
       "<Figure size 1440x720 with 1 Axes>"
      ]
     },
     "metadata": {
      "needs_background": "light"
     },
     "output_type": "display_data"
    }
   ],
   "source": [
    " # Boxplot of passenger_count vs fare_amount\n",
    "data = pd.concat([train['fare_amount'],train['passenger_count']], axis = 1)\n",
    "f, ax = plt.subplots(figsize = (20,10))\n",
    "fig= sns.boxplot(x='fare_amount' , y='passenger_count', data = train)\n",
    "plt.suptitle('boxplot of fare_amount vs passenger_count')"
   ]
  },
  {
   "cell_type": "code",
   "execution_count": 70,
   "metadata": {},
   "outputs": [
    {
     "name": "stdout",
     "output_type": "stream",
     "text": [
      "-2.5\n",
      "25.25\n"
     ]
    }
   ],
   "source": [
    "# Here we can see that trere are many outliers present in  fare_amount variable so we will remove these outliers\n",
    "# Now we'll detect and remove outliers present in fare_amount\n",
    "q75,q25 = np.percentile(train['fare_amount'],[75,25])\n",
    "iqr = q75-q25\n",
    "min = iqr - (q25*1.5)\n",
    "max = iqr + (q75*1.5)\n",
    "print(min)\n",
    "print(max)"
   ]
  },
  {
   "cell_type": "code",
   "execution_count": 71,
   "metadata": {},
   "outputs": [],
   "source": [
    "# Remove those observations which are less than lower fence and greater than upper fence\n",
    "train = train.drop(train[train['fare_amount'] < min].index)\n",
    "train = train.drop(train[train['fare_amount'] > max].index)"
   ]
  },
  {
   "cell_type": "code",
   "execution_count": 72,
   "metadata": {},
   "outputs": [
    {
     "name": "stdout",
     "output_type": "stream",
     "text": [
      "<class 'pandas.core.frame.DataFrame'>\n",
      "Int64Index: 14548 entries, 0 to 16066\n",
      "Data columns (total 11 columns):\n",
      "pickup_datetime      14548 non-null datetime64[ns, UTC]\n",
      "year                 14548 non-null int64\n",
      "month                14548 non-null int64\n",
      "day_of_week          14548 non-null int64\n",
      "hour                 14548 non-null int64\n",
      "fare_amount          14548 non-null float64\n",
      "pickup_longitude     14548 non-null float64\n",
      "pickup_latitude      14548 non-null float64\n",
      "dropoff_longitude    14548 non-null float64\n",
      "dropoff_latitude     14548 non-null float64\n",
      "passenger_count      14548 non-null category\n",
      "dtypes: category(1), datetime64[ns, UTC](1), float64(5), int64(4)\n",
      "memory usage: 1.2 MB\n"
     ]
    }
   ],
   "source": [
    "train.info()"
   ]
  },
  {
   "cell_type": "code",
   "execution_count": 73,
   "metadata": {},
   "outputs": [
    {
     "data": {
      "text/plain": [
       "Text(0.5, 0.98, 'boxplot of fare_amount after removing autliers')"
      ]
     },
     "execution_count": 73,
     "metadata": {},
     "output_type": "execute_result"
    },
    {
     "data": {
      "image/png": "[encoded data removed]",
      "text/plain": [
       "<Figure size 1440x360 with 1 Axes>"
      ]
     },
     "metadata": {
      "needs_background": "light"
     },
     "output_type": "display_data"
    }
   ],
   "source": [
    "#boxplot for the fare_amount after removing otliers\n",
    "plt.figure(figsize= (20,5))\n",
    "sns.boxplot(train['fare_amount'], data = train, orient = 'h')\n",
    "plt.suptitle('boxplot of fare_amount after removing autliers')"
   ]
  },
  {
   "cell_type": "code",
   "execution_count": 74,
   "metadata": {},
   "outputs": [],
   "source": [
    "####################################### Feature Engineering ####################################################################"
   ]
  },
  {
   "cell_type": "code",
   "execution_count": 75,
   "metadata": {
    "scrolled": false
   },
   "outputs": [],
   "source": [
    "#In Feature engineering step we will derive session from hour and distance from pickup longitude an latitude.\n",
    "#first we will derive distance from longitude and latitude.\n",
    "#As we know that we have given pickup longitute and latitude values and  drop longitude latitude variable. \n",
    "#So we need to calculate the distance Using the haversine formula and we will create a new variable called distance\n",
    "from math import radians, cos, sin,atan2, asin, sqrt\n",
    "\n",
    "def haversine(a):\n",
    "    lon1=a[0]\n",
    "    lat1=a[1]\n",
    "    lon2=a[2]\n",
    "    lat2=a[3]\n",
    "    \"\"\"\n",
    "    Calculate the great circle distance between two points \n",
    "    on the earth (specified in decimal degrees)\n",
    "    \"\"\"\n",
    "    # convert decimal degrees to radians \n",
    "    lon1, lat1, lon2, lat2 = map(radians, [lon1, lat1, lon2, lat2])\n",
    "    \n",
    "    # haversine formula \n",
    "    dlon = lon2 - lon1 \n",
    "    dlat = lat2 - lat1 \n",
    "    a = sin(dlat/2)**2 + cos(lat1) * cos(lat2) * sin(dlon/2)**2\n",
    "    c =  2 * atan2(sqrt(a), sqrt(1-a))\n",
    "    # Radius of earth in kilometers is 6371\n",
    "    km = 6371* c\n",
    "    return km"
   ]
  },
  {
   "cell_type": "code",
   "execution_count": 76,
   "metadata": {},
   "outputs": [],
   "source": [
    "train['distance'] = train[['pickup_longitude','pickup_latitude','dropoff_longitude','dropoff_latitude']].apply(haversine,axis=1)\n",
    "test['distance'] = test[['pickup_longitude','pickup_latitude','dropoff_longitude','dropoff_latitude']].apply(haversine,axis=1)"
   ]
  },
  {
   "cell_type": "code",
   "execution_count": 77,
   "metadata": {},
   "outputs": [
    {
     "data": {
      "text/html": [
       "<div>\n",
       "<style scoped>\n",
       "    .dataframe tbody tr th:only-of-type {\n",
       "        vertical-align: middle;\n",
       "    }\n",
       "\n",
       "    .dataframe tbody tr th {\n",
       "        vertical-align: top;\n",
       "    }\n",
       "\n",
       "    .dataframe thead th {\n",
       "        text-align: right;\n",
       "    }\n",
       "</style>\n",
       "<table border=\"1\" class=\"dataframe\">\n",
       "  <thead>\n",
       "    <tr style=\"text-align: right;\">\n",
       "      <th></th>\n",
       "      <th>pickup_datetime</th>\n",
       "      <th>year</th>\n",
       "      <th>month</th>\n",
       "      <th>day_of_week</th>\n",
       "      <th>hour</th>\n",
       "      <th>fare_amount</th>\n",
       "      <th>pickup_longitude</th>\n",
       "      <th>pickup_latitude</th>\n",
       "      <th>dropoff_longitude</th>\n",
       "      <th>dropoff_latitude</th>\n",
       "      <th>passenger_count</th>\n",
       "      <th>distance</th>\n",
       "    </tr>\n",
       "  </thead>\n",
       "  <tbody>\n",
       "    <tr>\n",
       "      <th>0</th>\n",
       "      <td>2009-06-15 17:26:21+00:00</td>\n",
       "      <td>2009</td>\n",
       "      <td>6</td>\n",
       "      <td>0</td>\n",
       "      <td>17</td>\n",
       "      <td>4.5</td>\n",
       "      <td>-73.844311</td>\n",
       "      <td>40.721319</td>\n",
       "      <td>-73.841610</td>\n",
       "      <td>40.712278</td>\n",
       "      <td>1</td>\n",
       "      <td>1.030764</td>\n",
       "    </tr>\n",
       "    <tr>\n",
       "      <th>1</th>\n",
       "      <td>2010-01-05 16:52:16+00:00</td>\n",
       "      <td>2010</td>\n",
       "      <td>1</td>\n",
       "      <td>1</td>\n",
       "      <td>16</td>\n",
       "      <td>16.9</td>\n",
       "      <td>-74.016048</td>\n",
       "      <td>40.711303</td>\n",
       "      <td>-73.979268</td>\n",
       "      <td>40.782004</td>\n",
       "      <td>1</td>\n",
       "      <td>8.450134</td>\n",
       "    </tr>\n",
       "    <tr>\n",
       "      <th>2</th>\n",
       "      <td>2011-08-18 00:35:00+00:00</td>\n",
       "      <td>2011</td>\n",
       "      <td>8</td>\n",
       "      <td>3</td>\n",
       "      <td>0</td>\n",
       "      <td>5.7</td>\n",
       "      <td>-73.982738</td>\n",
       "      <td>40.761270</td>\n",
       "      <td>-73.991242</td>\n",
       "      <td>40.750562</td>\n",
       "      <td>2</td>\n",
       "      <td>1.389525</td>\n",
       "    </tr>\n",
       "    <tr>\n",
       "      <th>3</th>\n",
       "      <td>2012-04-21 04:30:42+00:00</td>\n",
       "      <td>2012</td>\n",
       "      <td>4</td>\n",
       "      <td>5</td>\n",
       "      <td>4</td>\n",
       "      <td>7.7</td>\n",
       "      <td>-73.987130</td>\n",
       "      <td>40.733143</td>\n",
       "      <td>-73.991567</td>\n",
       "      <td>40.758092</td>\n",
       "      <td>1</td>\n",
       "      <td>2.799270</td>\n",
       "    </tr>\n",
       "    <tr>\n",
       "      <th>4</th>\n",
       "      <td>2010-03-09 07:51:00+00:00</td>\n",
       "      <td>2010</td>\n",
       "      <td>3</td>\n",
       "      <td>1</td>\n",
       "      <td>7</td>\n",
       "      <td>5.3</td>\n",
       "      <td>-73.968095</td>\n",
       "      <td>40.768008</td>\n",
       "      <td>-73.956655</td>\n",
       "      <td>40.783762</td>\n",
       "      <td>1</td>\n",
       "      <td>1.999157</td>\n",
       "    </tr>\n",
       "  </tbody>\n",
       "</table>\n",
       "</div>"
      ],
      "text/plain": [
       "            pickup_datetime  year  month  day_of_week  hour  fare_amount  \\\n",
       "0 2009-06-15 17:26:21+00:00  2009      6            0    17          4.5   \n",
       "1 2010-01-05 16:52:16+00:00  2010      1            1    16         16.9   \n",
       "2 2011-08-18 00:35:00+00:00  2011      8            3     0          5.7   \n",
       "3 2012-04-21 04:30:42+00:00  2012      4            5     4          7.7   \n",
       "4 2010-03-09 07:51:00+00:00  2010      3            1     7          5.3   \n",
       "\n",
       "   pickup_longitude  pickup_latitude  dropoff_longitude  dropoff_latitude  \\\n",
       "0        -73.844311        40.721319         -73.841610         40.712278   \n",
       "1        -74.016048        40.711303         -73.979268         40.782004   \n",
       "2        -73.982738        40.761270         -73.991242         40.750562   \n",
       "3        -73.987130        40.733143         -73.991567         40.758092   \n",
       "4        -73.968095        40.768008         -73.956655         40.783762   \n",
       "\n",
       "  passenger_count  distance  \n",
       "0               1  1.030764  \n",
       "1               1  8.450134  \n",
       "2               2  1.389525  \n",
       "3               1  2.799270  \n",
       "4               1  1.999157  "
      ]
     },
     "execution_count": 77,
     "metadata": {},
     "output_type": "execute_result"
    }
   ],
   "source": [
    "train.head()\n",
    "#test.head()"
   ]
  },
  {
   "cell_type": "code",
   "execution_count": 78,
   "metadata": {},
   "outputs": [
    {
     "data": {
      "text/plain": [
       "Index(['pickup_datetime', 'year', 'month', 'day_of_week', 'hour',\n",
       "       'fare_amount', 'pickup_longitude', 'pickup_latitude',\n",
       "       'dropoff_longitude', 'dropoff_latitude', 'passenger_count', 'distance'],\n",
       "      dtype='object')"
      ]
     },
     "execution_count": 78,
     "metadata": {},
     "output_type": "execute_result"
    }
   ],
   "source": [
    "train.columns"
   ]
  },
  {
   "cell_type": "code",
   "execution_count": 79,
   "metadata": {},
   "outputs": [],
   "source": [
    "# Now we will derive sessions in a day from hour \n",
    "# Defining a function to extract sessions in a day from hour\n",
    "def f(x):\n",
    "    if (x >=5) and (x <= 11):\n",
    "        return 'morning'\n",
    "    elif (x >=12) and (x <=16 ):\n",
    "        return 'afternoon'\n",
    "    elif (x >= 17) and (x <= 20):\n",
    "        return'evening'\n",
    "    elif (x >=21) and (x <= 23) :\n",
    "        return 'night_PM'\n",
    "    elif (x >=0) and (x <=4):\n",
    "        return'night_AM'"
   ]
  },
  {
   "cell_type": "code",
   "execution_count": 80,
   "metadata": {},
   "outputs": [],
   "source": [
    "# calling function and applying on train and test data\n",
    "train['session'] = train['hour'].apply(f)\n",
    "test['session'] = test['hour'].apply(f)"
   ]
  },
  {
   "cell_type": "code",
   "execution_count": 81,
   "metadata": {},
   "outputs": [],
   "source": [
    "#Extracting seasons from months\n",
    "def g(x):\n",
    "    if (x >=3) and (x <= 5):\n",
    "        return 'spring'\n",
    "    elif (x >=6) and (x <=8 ):\n",
    "        return 'summer'\n",
    "    elif (x >= 9) and (x <= 11):\n",
    "        return'fall'\n",
    "    elif (x >=12)|(x <= 2) :\n",
    "        return 'winter'"
   ]
  },
  {
   "cell_type": "code",
   "execution_count": 82,
   "metadata": {},
   "outputs": [],
   "source": [
    "train['seasons'] = train['month'].apply(g)\n",
    "test['seasons'] = test['month'].apply(g)"
   ]
  },
  {
   "cell_type": "code",
   "execution_count": 83,
   "metadata": {},
   "outputs": [],
   "source": [
    "# classfying weekdays and weekends in day_of_week\n",
    "def h(x):\n",
    "    if (x >=0) and (x <= 4):\n",
    "        return 'weekday'\n",
    "    elif (x >=5) and (x <=6 ):\n",
    "        return 'weekend'"
   ]
  },
  {
   "cell_type": "code",
   "execution_count": 84,
   "metadata": {},
   "outputs": [],
   "source": [
    "train['week'] = train['day_of_week'].apply(h)\n",
    "test['week'] = test['day_of_week'].apply(h)"
   ]
  },
  {
   "cell_type": "code",
   "execution_count": 85,
   "metadata": {},
   "outputs": [
    {
     "data": {
      "text/plain": [
       "((14548, 15), (9914, 14))"
      ]
     },
     "execution_count": 85,
     "metadata": {},
     "output_type": "execute_result"
    }
   ],
   "source": [
    "train.shape , test.shape"
   ]
  },
  {
   "cell_type": "code",
   "execution_count": 86,
   "metadata": {},
   "outputs": [
    {
     "data": {
      "text/html": [
       "<div>\n",
       "<style scoped>\n",
       "    .dataframe tbody tr th:only-of-type {\n",
       "        vertical-align: middle;\n",
       "    }\n",
       "\n",
       "    .dataframe tbody tr th {\n",
       "        vertical-align: top;\n",
       "    }\n",
       "\n",
       "    .dataframe thead th {\n",
       "        text-align: right;\n",
       "    }\n",
       "</style>\n",
       "<table border=\"1\" class=\"dataframe\">\n",
       "  <thead>\n",
       "    <tr style=\"text-align: right;\">\n",
       "      <th></th>\n",
       "      <th>pickup_datetime</th>\n",
       "      <th>year</th>\n",
       "      <th>month</th>\n",
       "      <th>day_of_week</th>\n",
       "      <th>hour</th>\n",
       "      <th>fare_amount</th>\n",
       "      <th>pickup_longitude</th>\n",
       "      <th>pickup_latitude</th>\n",
       "      <th>dropoff_longitude</th>\n",
       "      <th>dropoff_latitude</th>\n",
       "      <th>passenger_count</th>\n",
       "      <th>distance</th>\n",
       "      <th>session</th>\n",
       "      <th>seasons</th>\n",
       "      <th>week</th>\n",
       "    </tr>\n",
       "  </thead>\n",
       "  <tbody>\n",
       "    <tr>\n",
       "      <th>0</th>\n",
       "      <td>2009-06-15 17:26:21+00:00</td>\n",
       "      <td>2009</td>\n",
       "      <td>6</td>\n",
       "      <td>0</td>\n",
       "      <td>17</td>\n",
       "      <td>4.5</td>\n",
       "      <td>-73.844311</td>\n",
       "      <td>40.721319</td>\n",
       "      <td>-73.841610</td>\n",
       "      <td>40.712278</td>\n",
       "      <td>1</td>\n",
       "      <td>1.030764</td>\n",
       "      <td>evening</td>\n",
       "      <td>summer</td>\n",
       "      <td>weekday</td>\n",
       "    </tr>\n",
       "    <tr>\n",
       "      <th>1</th>\n",
       "      <td>2010-01-05 16:52:16+00:00</td>\n",
       "      <td>2010</td>\n",
       "      <td>1</td>\n",
       "      <td>1</td>\n",
       "      <td>16</td>\n",
       "      <td>16.9</td>\n",
       "      <td>-74.016048</td>\n",
       "      <td>40.711303</td>\n",
       "      <td>-73.979268</td>\n",
       "      <td>40.782004</td>\n",
       "      <td>1</td>\n",
       "      <td>8.450134</td>\n",
       "      <td>afternoon</td>\n",
       "      <td>winter</td>\n",
       "      <td>weekday</td>\n",
       "    </tr>\n",
       "    <tr>\n",
       "      <th>2</th>\n",
       "      <td>2011-08-18 00:35:00+00:00</td>\n",
       "      <td>2011</td>\n",
       "      <td>8</td>\n",
       "      <td>3</td>\n",
       "      <td>0</td>\n",
       "      <td>5.7</td>\n",
       "      <td>-73.982738</td>\n",
       "      <td>40.761270</td>\n",
       "      <td>-73.991242</td>\n",
       "      <td>40.750562</td>\n",
       "      <td>2</td>\n",
       "      <td>1.389525</td>\n",
       "      <td>night_AM</td>\n",
       "      <td>summer</td>\n",
       "      <td>weekday</td>\n",
       "    </tr>\n",
       "    <tr>\n",
       "      <th>3</th>\n",
       "      <td>2012-04-21 04:30:42+00:00</td>\n",
       "      <td>2012</td>\n",
       "      <td>4</td>\n",
       "      <td>5</td>\n",
       "      <td>4</td>\n",
       "      <td>7.7</td>\n",
       "      <td>-73.987130</td>\n",
       "      <td>40.733143</td>\n",
       "      <td>-73.991567</td>\n",
       "      <td>40.758092</td>\n",
       "      <td>1</td>\n",
       "      <td>2.799270</td>\n",
       "      <td>night_AM</td>\n",
       "      <td>spring</td>\n",
       "      <td>weekend</td>\n",
       "    </tr>\n",
       "    <tr>\n",
       "      <th>4</th>\n",
       "      <td>2010-03-09 07:51:00+00:00</td>\n",
       "      <td>2010</td>\n",
       "      <td>3</td>\n",
       "      <td>1</td>\n",
       "      <td>7</td>\n",
       "      <td>5.3</td>\n",
       "      <td>-73.968095</td>\n",
       "      <td>40.768008</td>\n",
       "      <td>-73.956655</td>\n",
       "      <td>40.783762</td>\n",
       "      <td>1</td>\n",
       "      <td>1.999157</td>\n",
       "      <td>morning</td>\n",
       "      <td>spring</td>\n",
       "      <td>weekday</td>\n",
       "    </tr>\n",
       "  </tbody>\n",
       "</table>\n",
       "</div>"
      ],
      "text/plain": [
       "            pickup_datetime  year  month  day_of_week  hour  fare_amount  \\\n",
       "0 2009-06-15 17:26:21+00:00  2009      6            0    17          4.5   \n",
       "1 2010-01-05 16:52:16+00:00  2010      1            1    16         16.9   \n",
       "2 2011-08-18 00:35:00+00:00  2011      8            3     0          5.7   \n",
       "3 2012-04-21 04:30:42+00:00  2012      4            5     4          7.7   \n",
       "4 2010-03-09 07:51:00+00:00  2010      3            1     7          5.3   \n",
       "\n",
       "   pickup_longitude  pickup_latitude  dropoff_longitude  dropoff_latitude  \\\n",
       "0        -73.844311        40.721319         -73.841610         40.712278   \n",
       "1        -74.016048        40.711303         -73.979268         40.782004   \n",
       "2        -73.982738        40.761270         -73.991242         40.750562   \n",
       "3        -73.987130        40.733143         -73.991567         40.758092   \n",
       "4        -73.968095        40.768008         -73.956655         40.783762   \n",
       "\n",
       "  passenger_count  distance    session seasons     week  \n",
       "0               1  1.030764    evening  summer  weekday  \n",
       "1               1  8.450134  afternoon  winter  weekday  \n",
       "2               2  1.389525   night_AM  summer  weekday  \n",
       "3               1  2.799270   night_AM  spring  weekend  \n",
       "4               1  1.999157    morning  spring  weekday  "
      ]
     },
     "execution_count": 86,
     "metadata": {},
     "output_type": "execute_result"
    }
   ],
   "source": [
    "train.head()"
   ]
  },
  {
   "cell_type": "code",
   "execution_count": 87,
   "metadata": {},
   "outputs": [],
   "source": [
    "# labeling session variable\n",
    "number = LabelEncoder()\n",
    "train['session'] = number.fit_transform(train['session'].astype('str'))\n",
    "test['session'] = number.fit_transform(test['session'].astype('str'))\n",
    "# labeling season \n",
    "train['seasons'] = number.fit_transform(train['seasons'].astype('str'))\n",
    "test['seasons'] = number.fit_transform(test['seasons'].astype('str'))\n",
    "# labeling week\n",
    "train['week'] = number.fit_transform(train['week'].astype('str'))\n",
    "test['week'] = number.fit_transform(test['week'].astype('str'))\n",
    "# Labeling year variable\n",
    "train['year'] = number.fit_transform(train['year'].astype('str'))\n",
    "test['year'] = number.fit_transform(test['year'].astype('str'))"
   ]
  },
  {
   "cell_type": "code",
   "execution_count": 88,
   "metadata": {},
   "outputs": [
    {
     "data": {
      "text/html": [
       "<div>\n",
       "<style scoped>\n",
       "    .dataframe tbody tr th:only-of-type {\n",
       "        vertical-align: middle;\n",
       "    }\n",
       "\n",
       "    .dataframe tbody tr th {\n",
       "        vertical-align: top;\n",
       "    }\n",
       "\n",
       "    .dataframe thead th {\n",
       "        text-align: right;\n",
       "    }\n",
       "</style>\n",
       "<table border=\"1\" class=\"dataframe\">\n",
       "  <thead>\n",
       "    <tr style=\"text-align: right;\">\n",
       "      <th></th>\n",
       "      <th>pickup_datetime</th>\n",
       "      <th>year</th>\n",
       "      <th>month</th>\n",
       "      <th>day_of_week</th>\n",
       "      <th>hour</th>\n",
       "      <th>fare_amount</th>\n",
       "      <th>pickup_longitude</th>\n",
       "      <th>pickup_latitude</th>\n",
       "      <th>dropoff_longitude</th>\n",
       "      <th>dropoff_latitude</th>\n",
       "      <th>passenger_count</th>\n",
       "      <th>distance</th>\n",
       "      <th>session</th>\n",
       "      <th>seasons</th>\n",
       "      <th>week</th>\n",
       "    </tr>\n",
       "  </thead>\n",
       "  <tbody>\n",
       "    <tr>\n",
       "      <th>0</th>\n",
       "      <td>2009-06-15 17:26:21+00:00</td>\n",
       "      <td>0</td>\n",
       "      <td>6</td>\n",
       "      <td>0</td>\n",
       "      <td>17</td>\n",
       "      <td>4.5</td>\n",
       "      <td>-73.844311</td>\n",
       "      <td>40.721319</td>\n",
       "      <td>-73.841610</td>\n",
       "      <td>40.712278</td>\n",
       "      <td>1</td>\n",
       "      <td>1.030764</td>\n",
       "      <td>1</td>\n",
       "      <td>2</td>\n",
       "      <td>0</td>\n",
       "    </tr>\n",
       "    <tr>\n",
       "      <th>1</th>\n",
       "      <td>2010-01-05 16:52:16+00:00</td>\n",
       "      <td>1</td>\n",
       "      <td>1</td>\n",
       "      <td>1</td>\n",
       "      <td>16</td>\n",
       "      <td>16.9</td>\n",
       "      <td>-74.016048</td>\n",
       "      <td>40.711303</td>\n",
       "      <td>-73.979268</td>\n",
       "      <td>40.782004</td>\n",
       "      <td>1</td>\n",
       "      <td>8.450134</td>\n",
       "      <td>0</td>\n",
       "      <td>3</td>\n",
       "      <td>0</td>\n",
       "    </tr>\n",
       "    <tr>\n",
       "      <th>2</th>\n",
       "      <td>2011-08-18 00:35:00+00:00</td>\n",
       "      <td>2</td>\n",
       "      <td>8</td>\n",
       "      <td>3</td>\n",
       "      <td>0</td>\n",
       "      <td>5.7</td>\n",
       "      <td>-73.982738</td>\n",
       "      <td>40.761270</td>\n",
       "      <td>-73.991242</td>\n",
       "      <td>40.750562</td>\n",
       "      <td>2</td>\n",
       "      <td>1.389525</td>\n",
       "      <td>3</td>\n",
       "      <td>2</td>\n",
       "      <td>0</td>\n",
       "    </tr>\n",
       "    <tr>\n",
       "      <th>3</th>\n",
       "      <td>2012-04-21 04:30:42+00:00</td>\n",
       "      <td>3</td>\n",
       "      <td>4</td>\n",
       "      <td>5</td>\n",
       "      <td>4</td>\n",
       "      <td>7.7</td>\n",
       "      <td>-73.987130</td>\n",
       "      <td>40.733143</td>\n",
       "      <td>-73.991567</td>\n",
       "      <td>40.758092</td>\n",
       "      <td>1</td>\n",
       "      <td>2.799270</td>\n",
       "      <td>3</td>\n",
       "      <td>1</td>\n",
       "      <td>1</td>\n",
       "    </tr>\n",
       "    <tr>\n",
       "      <th>4</th>\n",
       "      <td>2010-03-09 07:51:00+00:00</td>\n",
       "      <td>1</td>\n",
       "      <td>3</td>\n",
       "      <td>1</td>\n",
       "      <td>7</td>\n",
       "      <td>5.3</td>\n",
       "      <td>-73.968095</td>\n",
       "      <td>40.768008</td>\n",
       "      <td>-73.956655</td>\n",
       "      <td>40.783762</td>\n",
       "      <td>1</td>\n",
       "      <td>1.999157</td>\n",
       "      <td>2</td>\n",
       "      <td>1</td>\n",
       "      <td>0</td>\n",
       "    </tr>\n",
       "  </tbody>\n",
       "</table>\n",
       "</div>"
      ],
      "text/plain": [
       "            pickup_datetime  year  month  day_of_week  hour  fare_amount  \\\n",
       "0 2009-06-15 17:26:21+00:00     0      6            0    17          4.5   \n",
       "1 2010-01-05 16:52:16+00:00     1      1            1    16         16.9   \n",
       "2 2011-08-18 00:35:00+00:00     2      8            3     0          5.7   \n",
       "3 2012-04-21 04:30:42+00:00     3      4            5     4          7.7   \n",
       "4 2010-03-09 07:51:00+00:00     1      3            1     7          5.3   \n",
       "\n",
       "   pickup_longitude  pickup_latitude  dropoff_longitude  dropoff_latitude  \\\n",
       "0        -73.844311        40.721319         -73.841610         40.712278   \n",
       "1        -74.016048        40.711303         -73.979268         40.782004   \n",
       "2        -73.982738        40.761270         -73.991242         40.750562   \n",
       "3        -73.987130        40.733143         -73.991567         40.758092   \n",
       "4        -73.968095        40.768008         -73.956655         40.783762   \n",
       "\n",
       "  passenger_count  distance  session  seasons  week  \n",
       "0               1  1.030764        1        2     0  \n",
       "1               1  8.450134        0        3     0  \n",
       "2               2  1.389525        3        2     0  \n",
       "3               1  2.799270        3        1     1  \n",
       "4               1  1.999157        2        1     0  "
      ]
     },
     "execution_count": 88,
     "metadata": {},
     "output_type": "execute_result"
    }
   ],
   "source": [
    "train.head()"
   ]
  },
  {
   "cell_type": "code",
   "execution_count": 89,
   "metadata": {
    "scrolled": false
   },
   "outputs": [
    {
     "data": {
      "text/html": [
       "<div>\n",
       "<style scoped>\n",
       "    .dataframe tbody tr th:only-of-type {\n",
       "        vertical-align: middle;\n",
       "    }\n",
       "\n",
       "    .dataframe tbody tr th {\n",
       "        vertical-align: top;\n",
       "    }\n",
       "\n",
       "    .dataframe thead th {\n",
       "        text-align: right;\n",
       "    }\n",
       "</style>\n",
       "<table border=\"1\" class=\"dataframe\">\n",
       "  <thead>\n",
       "    <tr style=\"text-align: right;\">\n",
       "      <th></th>\n",
       "      <th>pickup_datetime</th>\n",
       "      <th>pickup_longitude</th>\n",
       "      <th>pickup_latitude</th>\n",
       "      <th>dropoff_longitude</th>\n",
       "      <th>dropoff_latitude</th>\n",
       "      <th>passenger_count</th>\n",
       "      <th>year</th>\n",
       "      <th>month</th>\n",
       "      <th>day_of_week</th>\n",
       "      <th>hour</th>\n",
       "      <th>distance</th>\n",
       "      <th>session</th>\n",
       "      <th>seasons</th>\n",
       "      <th>week</th>\n",
       "    </tr>\n",
       "  </thead>\n",
       "  <tbody>\n",
       "    <tr>\n",
       "      <th>0</th>\n",
       "      <td>2015-01-27 13:08:24+00:00</td>\n",
       "      <td>-73.973320</td>\n",
       "      <td>40.763805</td>\n",
       "      <td>-73.981430</td>\n",
       "      <td>40.743835</td>\n",
       "      <td>1</td>\n",
       "      <td>6</td>\n",
       "      <td>1</td>\n",
       "      <td>1</td>\n",
       "      <td>13</td>\n",
       "      <td>2.323259</td>\n",
       "      <td>0</td>\n",
       "      <td>3</td>\n",
       "      <td>0</td>\n",
       "    </tr>\n",
       "    <tr>\n",
       "      <th>1</th>\n",
       "      <td>2015-01-27 13:08:24+00:00</td>\n",
       "      <td>-73.986862</td>\n",
       "      <td>40.719383</td>\n",
       "      <td>-73.998886</td>\n",
       "      <td>40.739201</td>\n",
       "      <td>1</td>\n",
       "      <td>6</td>\n",
       "      <td>1</td>\n",
       "      <td>1</td>\n",
       "      <td>13</td>\n",
       "      <td>2.425353</td>\n",
       "      <td>0</td>\n",
       "      <td>3</td>\n",
       "      <td>0</td>\n",
       "    </tr>\n",
       "    <tr>\n",
       "      <th>2</th>\n",
       "      <td>2011-10-08 11:53:44+00:00</td>\n",
       "      <td>-73.982524</td>\n",
       "      <td>40.751260</td>\n",
       "      <td>-73.979654</td>\n",
       "      <td>40.746139</td>\n",
       "      <td>1</td>\n",
       "      <td>2</td>\n",
       "      <td>10</td>\n",
       "      <td>5</td>\n",
       "      <td>11</td>\n",
       "      <td>0.618628</td>\n",
       "      <td>2</td>\n",
       "      <td>0</td>\n",
       "      <td>1</td>\n",
       "    </tr>\n",
       "    <tr>\n",
       "      <th>3</th>\n",
       "      <td>2012-12-01 21:12:12+00:00</td>\n",
       "      <td>-73.981160</td>\n",
       "      <td>40.767807</td>\n",
       "      <td>-73.990448</td>\n",
       "      <td>40.751635</td>\n",
       "      <td>1</td>\n",
       "      <td>3</td>\n",
       "      <td>12</td>\n",
       "      <td>5</td>\n",
       "      <td>21</td>\n",
       "      <td>1.961033</td>\n",
       "      <td>4</td>\n",
       "      <td>3</td>\n",
       "      <td>1</td>\n",
       "    </tr>\n",
       "    <tr>\n",
       "      <th>4</th>\n",
       "      <td>2012-12-01 21:12:12+00:00</td>\n",
       "      <td>-73.966046</td>\n",
       "      <td>40.789775</td>\n",
       "      <td>-73.988565</td>\n",
       "      <td>40.744427</td>\n",
       "      <td>1</td>\n",
       "      <td>3</td>\n",
       "      <td>12</td>\n",
       "      <td>5</td>\n",
       "      <td>21</td>\n",
       "      <td>5.387301</td>\n",
       "      <td>4</td>\n",
       "      <td>3</td>\n",
       "      <td>1</td>\n",
       "    </tr>\n",
       "  </tbody>\n",
       "</table>\n",
       "</div>"
      ],
      "text/plain": [
       "            pickup_datetime  pickup_longitude  pickup_latitude  \\\n",
       "0 2015-01-27 13:08:24+00:00        -73.973320        40.763805   \n",
       "1 2015-01-27 13:08:24+00:00        -73.986862        40.719383   \n",
       "2 2011-10-08 11:53:44+00:00        -73.982524        40.751260   \n",
       "3 2012-12-01 21:12:12+00:00        -73.981160        40.767807   \n",
       "4 2012-12-01 21:12:12+00:00        -73.966046        40.789775   \n",
       "\n",
       "   dropoff_longitude  dropoff_latitude  passenger_count  year  month  \\\n",
       "0         -73.981430         40.743835                1     6      1   \n",
       "1         -73.998886         40.739201                1     6      1   \n",
       "2         -73.979654         40.746139                1     2     10   \n",
       "3         -73.990448         40.751635                1     3     12   \n",
       "4         -73.988565         40.744427                1     3     12   \n",
       "\n",
       "   day_of_week  hour  distance  session  seasons  week  \n",
       "0            1    13  2.323259        0        3     0  \n",
       "1            1    13  2.425353        0        3     0  \n",
       "2            5    11  0.618628        2        0     1  \n",
       "3            5    21  1.961033        4        3     1  \n",
       "4            5    21  5.387301        4        3     1  "
      ]
     },
     "execution_count": 89,
     "metadata": {},
     "output_type": "execute_result"
    }
   ],
   "source": [
    "test.head()"
   ]
  },
  {
   "cell_type": "code",
   "execution_count": 90,
   "metadata": {},
   "outputs": [
    {
     "data": {
      "text/plain": [
       "Index(['pickup_datetime', 'year', 'month', 'day_of_week', 'hour',\n",
       "       'fare_amount', 'pickup_longitude', 'pickup_latitude',\n",
       "       'dropoff_longitude', 'dropoff_latitude', 'passenger_count', 'distance',\n",
       "       'session', 'seasons', 'week'],\n",
       "      dtype='object')"
      ]
     },
     "execution_count": 90,
     "metadata": {},
     "output_type": "execute_result"
    }
   ],
   "source": [
    "train.columns"
   ]
  },
  {
   "cell_type": "code",
   "execution_count": 91,
   "metadata": {
    "scrolled": true
   },
   "outputs": [
    {
     "data": {
      "text/plain": [
       "Text(0.5, 0.98, 'boxplot of Distance')"
      ]
     },
     "execution_count": 91,
     "metadata": {},
     "output_type": "execute_result"
    },
    {
     "data": {
      "image/png": "[encoded data removed]",
      "text/plain": [
       "<Figure size 720x504 with 1 Axes>"
      ]
     },
     "metadata": {
      "needs_background": "light"
     },
     "output_type": "display_data"
    }
   ],
   "source": [
    "# Now we will check for the outliers in distance variable.\n",
    "# boxplot for distance variable\n",
    "plt.figure(figsize = (10, 7))\n",
    "sns.boxplot(train['distance'], orient = 'h')\n",
    "plt.suptitle('boxplot of Distance')"
   ]
  },
  {
   "cell_type": "code",
   "execution_count": 92,
   "metadata": {},
   "outputs": [
    {
     "name": "stdout",
     "output_type": "stream",
     "text": [
      "0.3771929487738168\n",
      "7.306807887888465\n"
     ]
    }
   ],
   "source": [
    "# Here we can see that some outliers are present in Distance ariable\n",
    "# Now we will detect and remove these variables\n",
    "q75, q25 = np.percentile(train['distance'], [75,25])\n",
    "iqr = q75-q25\n",
    "min = iqr - (q25*1.5)\n",
    "max = iqr + (q75*1.5)\n",
    "print(min)\n",
    "print(max)"
   ]
  },
  {
   "cell_type": "code",
   "execution_count": 93,
   "metadata": {},
   "outputs": [],
   "source": [
    "# Now we will remove these observations which are greater than upper fence and less than lower fence\n",
    "train = train.drop(train[train['distance']< min].index)\n",
    "train = train.drop(train[train['distance']> max].index)"
   ]
  },
  {
   "cell_type": "code",
   "execution_count": 94,
   "metadata": {},
   "outputs": [
    {
     "data": {
      "text/plain": [
       "Text(0.5, 0.98, 'Boxplot of disance after removing outliers')"
      ]
     },
     "execution_count": 94,
     "metadata": {},
     "output_type": "execute_result"
    },
    {
     "data": {
      "image/png": "[encoded data removed]",
      "text/plain": [
       "<Figure size 720x504 with 1 Axes>"
      ]
     },
     "metadata": {
      "needs_background": "light"
     },
     "output_type": "display_data"
    }
   ],
   "source": [
    "#Boxplot after removing outliers in distance variable\n",
    "plt.figure(figsize = (10, 7))\n",
    "sns.boxplot(train['distance'], color = 'green', orient = 'h')\n",
    "plt.suptitle('Boxplot of disance after removing outliers')"
   ]
  },
  {
   "cell_type": "code",
   "execution_count": 95,
   "metadata": {},
   "outputs": [],
   "source": [
    "########################################### Feature Selection ##########################################################\n",
    "# First here we will remove those variables from which we have extracted new features that is longitude latitude, pickup_datetime\n",
    "train = train.drop(['pickup_datetime','hour','pickup_longitude','pickup_latitude','dropoff_longitude','dropoff_latitude','day_of_week','month'], axis =1)\n",
    "test = test.drop(['pickup_datetime','hour','pickup_longitude','pickup_latitude','dropoff_longitude','dropoff_latitude','day_of_week','month'], axis =1)"
   ]
  },
  {
   "cell_type": "code",
   "execution_count": 96,
   "metadata": {
    "scrolled": true
   },
   "outputs": [
    {
     "data": {
      "text/html": [
       "<div>\n",
       "<style scoped>\n",
       "    .dataframe tbody tr th:only-of-type {\n",
       "        vertical-align: middle;\n",
       "    }\n",
       "\n",
       "    .dataframe tbody tr th {\n",
       "        vertical-align: top;\n",
       "    }\n",
       "\n",
       "    .dataframe thead th {\n",
       "        text-align: right;\n",
       "    }\n",
       "</style>\n",
       "<table border=\"1\" class=\"dataframe\">\n",
       "  <thead>\n",
       "    <tr style=\"text-align: right;\">\n",
       "      <th></th>\n",
       "      <th>year</th>\n",
       "      <th>fare_amount</th>\n",
       "      <th>passenger_count</th>\n",
       "      <th>distance</th>\n",
       "      <th>session</th>\n",
       "      <th>seasons</th>\n",
       "      <th>week</th>\n",
       "    </tr>\n",
       "  </thead>\n",
       "  <tbody>\n",
       "    <tr>\n",
       "      <th>0</th>\n",
       "      <td>0</td>\n",
       "      <td>4.5</td>\n",
       "      <td>1</td>\n",
       "      <td>1.030764</td>\n",
       "      <td>1</td>\n",
       "      <td>2</td>\n",
       "      <td>0</td>\n",
       "    </tr>\n",
       "    <tr>\n",
       "      <th>2</th>\n",
       "      <td>2</td>\n",
       "      <td>5.7</td>\n",
       "      <td>2</td>\n",
       "      <td>1.389525</td>\n",
       "      <td>3</td>\n",
       "      <td>2</td>\n",
       "      <td>0</td>\n",
       "    </tr>\n",
       "    <tr>\n",
       "      <th>3</th>\n",
       "      <td>3</td>\n",
       "      <td>7.7</td>\n",
       "      <td>1</td>\n",
       "      <td>2.799270</td>\n",
       "      <td>3</td>\n",
       "      <td>1</td>\n",
       "      <td>1</td>\n",
       "    </tr>\n",
       "    <tr>\n",
       "      <th>4</th>\n",
       "      <td>1</td>\n",
       "      <td>5.3</td>\n",
       "      <td>1</td>\n",
       "      <td>1.999157</td>\n",
       "      <td>2</td>\n",
       "      <td>1</td>\n",
       "      <td>0</td>\n",
       "    </tr>\n",
       "    <tr>\n",
       "      <th>5</th>\n",
       "      <td>2</td>\n",
       "      <td>12.1</td>\n",
       "      <td>1</td>\n",
       "      <td>3.787239</td>\n",
       "      <td>2</td>\n",
       "      <td>3</td>\n",
       "      <td>0</td>\n",
       "    </tr>\n",
       "  </tbody>\n",
       "</table>\n",
       "</div>"
      ],
      "text/plain": [
       "   year  fare_amount passenger_count  distance  session  seasons  week\n",
       "0     0          4.5               1  1.030764        1        2     0\n",
       "2     2          5.7               2  1.389525        3        2     0\n",
       "3     3          7.7               1  2.799270        3        1     1\n",
       "4     1          5.3               1  1.999157        2        1     0\n",
       "5     2         12.1               1  3.787239        2        3     0"
      ]
     },
     "execution_count": 96,
     "metadata": {},
     "output_type": "execute_result"
    }
   ],
   "source": [
    "train.head()"
   ]
  },
  {
   "cell_type": "code",
   "execution_count": 97,
   "metadata": {},
   "outputs": [
    {
     "data": {
      "text/html": [
       "<div>\n",
       "<style scoped>\n",
       "    .dataframe tbody tr th:only-of-type {\n",
       "        vertical-align: middle;\n",
       "    }\n",
       "\n",
       "    .dataframe tbody tr th {\n",
       "        vertical-align: top;\n",
       "    }\n",
       "\n",
       "    .dataframe thead th {\n",
       "        text-align: right;\n",
       "    }\n",
       "</style>\n",
       "<table border=\"1\" class=\"dataframe\">\n",
       "  <thead>\n",
       "    <tr style=\"text-align: right;\">\n",
       "      <th></th>\n",
       "      <th>passenger_count</th>\n",
       "      <th>year</th>\n",
       "      <th>distance</th>\n",
       "      <th>session</th>\n",
       "      <th>seasons</th>\n",
       "      <th>week</th>\n",
       "    </tr>\n",
       "  </thead>\n",
       "  <tbody>\n",
       "    <tr>\n",
       "      <th>0</th>\n",
       "      <td>1</td>\n",
       "      <td>6</td>\n",
       "      <td>2.323259</td>\n",
       "      <td>0</td>\n",
       "      <td>3</td>\n",
       "      <td>0</td>\n",
       "    </tr>\n",
       "    <tr>\n",
       "      <th>1</th>\n",
       "      <td>1</td>\n",
       "      <td>6</td>\n",
       "      <td>2.425353</td>\n",
       "      <td>0</td>\n",
       "      <td>3</td>\n",
       "      <td>0</td>\n",
       "    </tr>\n",
       "    <tr>\n",
       "      <th>2</th>\n",
       "      <td>1</td>\n",
       "      <td>2</td>\n",
       "      <td>0.618628</td>\n",
       "      <td>2</td>\n",
       "      <td>0</td>\n",
       "      <td>1</td>\n",
       "    </tr>\n",
       "    <tr>\n",
       "      <th>3</th>\n",
       "      <td>1</td>\n",
       "      <td>3</td>\n",
       "      <td>1.961033</td>\n",
       "      <td>4</td>\n",
       "      <td>3</td>\n",
       "      <td>1</td>\n",
       "    </tr>\n",
       "    <tr>\n",
       "      <th>4</th>\n",
       "      <td>1</td>\n",
       "      <td>3</td>\n",
       "      <td>5.387301</td>\n",
       "      <td>4</td>\n",
       "      <td>3</td>\n",
       "      <td>1</td>\n",
       "    </tr>\n",
       "  </tbody>\n",
       "</table>\n",
       "</div>"
      ],
      "text/plain": [
       "   passenger_count  year  distance  session  seasons  week\n",
       "0                1     6  2.323259        0        3     0\n",
       "1                1     6  2.425353        0        3     0\n",
       "2                1     2  0.618628        2        0     1\n",
       "3                1     3  1.961033        4        3     1\n",
       "4                1     3  5.387301        4        3     1"
      ]
     },
     "execution_count": 97,
     "metadata": {},
     "output_type": "execute_result"
    }
   ],
   "source": [
    "test.head()"
   ]
  },
  {
   "cell_type": "code",
   "execution_count": 98,
   "metadata": {},
   "outputs": [],
   "source": [
    "# Now we will separate catagorical variables and numerical variables to check the corrilation.\n",
    "cat_var = ['year','seasons','passenger_count','session','week']\n",
    "num_var = ['fare_amount','distance']\n",
    "train[cat_var]=train[cat_var].apply(lambda x: x.astype('category') )\n",
    "test[cat_var]=test[cat_var].apply(lambda x: x.astype('category') )"
   ]
  },
  {
   "cell_type": "code",
   "execution_count": 99,
   "metadata": {},
   "outputs": [
    {
     "data": {
      "text/plain": [
       "<matplotlib.axes._subplots.AxesSubplot at 0x17c99c36ac8>"
      ]
     },
     "execution_count": 99,
     "metadata": {},
     "output_type": "execute_result"
    },
    {
     "data": {
      "image/png": "[encoded data removed]",
      "text/plain": [
       "<Figure size 576x576 with 2 Axes>"
      ]
     },
     "metadata": {
      "needs_background": "light"
     },
     "output_type": "display_data"
    }
   ],
   "source": [
    "# Now we will check the corrilation between numerical variables through heatmape using correlation matrix\n",
    "f, ax = plt.subplots(figsize = (8,8))\n",
    "#Generate correlation matrix\n",
    "corr_mat = train.corr()\n",
    "#plot heatmmape using seaborn library\n",
    "sns.heatmap(corr_mat, mask=np.zeros_like(corr_mat, dtype=np.bool), cmap=sns.diverging_palette(220, 10, as_cmap=True),square=True, ax=ax)\n"
   ]
  },
  {
   "cell_type": "code",
   "execution_count": 100,
   "metadata": {},
   "outputs": [],
   "source": [
    "# Here we can see that there is a high correlation between distance and fare amount.\n",
    "# to test the collinearity or dependency between catagorical variable, we will apply chi-square test of independence\n",
    "# we hae already selected catagorical variables and stored in cat_var"
   ]
  },
  {
   "cell_type": "code",
   "execution_count": 101,
   "metadata": {},
   "outputs": [
    {
     "name": "stdout",
     "output_type": "stream",
     "text": [
      "year and seasons are dependent on each other with P value 8.421232210580892e-93 =  remove\n",
      "year and passenger_count are dependent on each other with P value 2.6320302167352995e-26 =  remove\n",
      "year and session are independent on each other with P value 0.8445881225252707 = Keep\n",
      "year and week are dependent on each other with P value 0.023062809124273123 =  remove\n",
      "seasons and year are dependent on each other with P value 8.42123221058137e-93 =  remove\n",
      "seasons and passenger_count are dependent on each other with P value 0.03457422289573754 =  remove\n",
      "seasons and session are independent on each other with P value 0.09686602798889939 = Keep\n",
      "seasons and week are independent on each other with P value 0.12727362700748787 = Keep\n",
      "passenger_count and year are dependent on each other with P value 2.6320302167352995e-26 =  remove\n",
      "passenger_count and seasons are dependent on each other with P value 0.03457422289573762 =  remove\n",
      "passenger_count and session are dependent on each other with P value 1.3966111160201043e-22 =  remove\n",
      "passenger_count and week are dependent on each other with P value 1.235424505626982e-19 =  remove\n",
      "session and year are independent on each other with P value 0.8445881225252707 = Keep\n",
      "session and seasons are independent on each other with P value 0.09686602798889939 = Keep\n",
      "session and passenger_count are dependent on each other with P value 1.3966111160200833e-22 =  remove\n",
      "session and week are dependent on each other with P value 1.015460107623779e-120 =  remove\n",
      "week and year are dependent on each other with P value 0.023062809124273106 =  remove\n",
      "week and seasons are independent on each other with P value 0.12727362700748787 = Keep\n",
      "week and passenger_count are dependent on each other with P value 1.235424505626991e-19 =  remove\n",
      "week and session are dependent on each other with P value 1.015460107623779e-120 =  remove\n"
     ]
    }
   ],
   "source": [
    "# Applying chi_square test\n",
    "for i in cat_var:\n",
    "    for j in cat_var:\n",
    "        if(i != j):\n",
    "            chi2, p, dof, ex = chi2_contingency(pd.crosstab(train[i], train[j]))\n",
    "            if(p < 0.05):\n",
    "                print(i,\"and\",j,\"are dependent on each other with P value\",p,'=  remove')\n",
    "            else:\n",
    "                print(i,\"and\",j,\"are independent on each other with P value\",p,'= Keep')"
   ]
  },
  {
   "cell_type": "code",
   "execution_count": 102,
   "metadata": {},
   "outputs": [
    {
     "data": {
      "text/html": [
       "<div>\n",
       "<style scoped>\n",
       "    .dataframe tbody tr th:only-of-type {\n",
       "        vertical-align: middle;\n",
       "    }\n",
       "\n",
       "    .dataframe tbody tr th {\n",
       "        vertical-align: top;\n",
       "    }\n",
       "\n",
       "    .dataframe thead th {\n",
       "        text-align: right;\n",
       "    }\n",
       "</style>\n",
       "<table border=\"1\" class=\"dataframe\">\n",
       "  <thead>\n",
       "    <tr style=\"text-align: right;\">\n",
       "      <th></th>\n",
       "      <th>df</th>\n",
       "      <th>sum_sq</th>\n",
       "      <th>mean_sq</th>\n",
       "      <th>F</th>\n",
       "      <th>PR(&gt;F)</th>\n",
       "    </tr>\n",
       "  </thead>\n",
       "  <tbody>\n",
       "    <tr>\n",
       "      <th>C(year)</th>\n",
       "      <td>6.0</td>\n",
       "      <td>7951.162335</td>\n",
       "      <td>1325.193722</td>\n",
       "      <td>85.303277</td>\n",
       "      <td>2.433687e-105</td>\n",
       "    </tr>\n",
       "    <tr>\n",
       "      <th>C(seasons)</th>\n",
       "      <td>3.0</td>\n",
       "      <td>544.342485</td>\n",
       "      <td>181.447495</td>\n",
       "      <td>11.679851</td>\n",
       "      <td>1.220748e-07</td>\n",
       "    </tr>\n",
       "    <tr>\n",
       "      <th>C(passenger_count)</th>\n",
       "      <td>6.0</td>\n",
       "      <td>232.166841</td>\n",
       "      <td>38.694474</td>\n",
       "      <td>2.490780</td>\n",
       "      <td>2.073913e-02</td>\n",
       "    </tr>\n",
       "    <tr>\n",
       "      <th>C(session)</th>\n",
       "      <td>4.0</td>\n",
       "      <td>643.688620</td>\n",
       "      <td>160.922155</td>\n",
       "      <td>10.358627</td>\n",
       "      <td>2.248181e-08</td>\n",
       "    </tr>\n",
       "    <tr>\n",
       "      <th>C(week)</th>\n",
       "      <td>1.0</td>\n",
       "      <td>22.417944</td>\n",
       "      <td>22.417944</td>\n",
       "      <td>1.443052</td>\n",
       "      <td>2.296669e-01</td>\n",
       "    </tr>\n",
       "    <tr>\n",
       "      <th>Residual</th>\n",
       "      <td>13603.0</td>\n",
       "      <td>211323.772516</td>\n",
       "      <td>15.535086</td>\n",
       "      <td>NaN</td>\n",
       "      <td>NaN</td>\n",
       "    </tr>\n",
       "  </tbody>\n",
       "</table>\n",
       "</div>"
      ],
      "text/plain": [
       "                         df         sum_sq      mean_sq          F  \\\n",
       "C(year)                 6.0    7951.162335  1325.193722  85.303277   \n",
       "C(seasons)              3.0     544.342485   181.447495  11.679851   \n",
       "C(passenger_count)      6.0     232.166841    38.694474   2.490780   \n",
       "C(session)              4.0     643.688620   160.922155  10.358627   \n",
       "C(week)                 1.0      22.417944    22.417944   1.443052   \n",
       "Residual            13603.0  211323.772516    15.535086        NaN   \n",
       "\n",
       "                           PR(>F)  \n",
       "C(year)             2.433687e-105  \n",
       "C(seasons)           1.220748e-07  \n",
       "C(passenger_count)   2.073913e-02  \n",
       "C(session)           2.248181e-08  \n",
       "C(week)              2.296669e-01  \n",
       "Residual                      NaN  "
      ]
     },
     "execution_count": 102,
     "metadata": {},
     "output_type": "execute_result"
    }
   ],
   "source": [
    "# ANOVA test for the catagorical variable\n",
    "model = ols('fare_amount ~ C(year)+C(seasons)+C(passenger_count)+C(session)+C(week)',data=train).fit()\n",
    "ANOVA_table = sm.stats.anova_lm(model)\n",
    "ANOVA_table"
   ]
  },
  {
   "cell_type": "code",
   "execution_count": 103,
   "metadata": {},
   "outputs": [
    {
     "data": {
      "text/html": [
       "<div>\n",
       "<style scoped>\n",
       "    .dataframe tbody tr th:only-of-type {\n",
       "        vertical-align: middle;\n",
       "    }\n",
       "\n",
       "    .dataframe tbody tr th {\n",
       "        vertical-align: top;\n",
       "    }\n",
       "\n",
       "    .dataframe thead th {\n",
       "        text-align: right;\n",
       "    }\n",
       "</style>\n",
       "<table border=\"1\" class=\"dataframe\">\n",
       "  <thead>\n",
       "    <tr style=\"text-align: right;\">\n",
       "      <th></th>\n",
       "      <th>VIF</th>\n",
       "      <th>features</th>\n",
       "    </tr>\n",
       "  </thead>\n",
       "  <tbody>\n",
       "    <tr>\n",
       "      <th>0</th>\n",
       "      <td>3425.186988</td>\n",
       "      <td>Intercept</td>\n",
       "    </tr>\n",
       "    <tr>\n",
       "      <th>1</th>\n",
       "      <td>1.688485</td>\n",
       "      <td>year[T.1]</td>\n",
       "    </tr>\n",
       "    <tr>\n",
       "      <th>2</th>\n",
       "      <td>1.690192</td>\n",
       "      <td>year[T.2]</td>\n",
       "    </tr>\n",
       "    <tr>\n",
       "      <th>3</th>\n",
       "      <td>1.706162</td>\n",
       "      <td>year[T.3]</td>\n",
       "    </tr>\n",
       "    <tr>\n",
       "      <th>4</th>\n",
       "      <td>1.710537</td>\n",
       "      <td>year[T.4]</td>\n",
       "    </tr>\n",
       "    <tr>\n",
       "      <th>5</th>\n",
       "      <td>1.665170</td>\n",
       "      <td>year[T.5]</td>\n",
       "    </tr>\n",
       "    <tr>\n",
       "      <th>6</th>\n",
       "      <td>1.405393</td>\n",
       "      <td>year[T.6]</td>\n",
       "    </tr>\n",
       "    <tr>\n",
       "      <th>7</th>\n",
       "      <td>706.690287</td>\n",
       "      <td>passenger_count[T.1]</td>\n",
       "    </tr>\n",
       "    <tr>\n",
       "      <th>8</th>\n",
       "      <td>421.205388</td>\n",
       "      <td>passenger_count[T.2]</td>\n",
       "    </tr>\n",
       "    <tr>\n",
       "      <th>9</th>\n",
       "      <td>142.481441</td>\n",
       "      <td>passenger_count[T.3]</td>\n",
       "    </tr>\n",
       "    <tr>\n",
       "      <th>10</th>\n",
       "      <td>70.105012</td>\n",
       "      <td>passenger_count[T.4]</td>\n",
       "    </tr>\n",
       "    <tr>\n",
       "      <th>11</th>\n",
       "      <td>208.286743</td>\n",
       "      <td>passenger_count[T.5]</td>\n",
       "    </tr>\n",
       "    <tr>\n",
       "      <th>12</th>\n",
       "      <td>66.492515</td>\n",
       "      <td>passenger_count[T.6]</td>\n",
       "    </tr>\n",
       "    <tr>\n",
       "      <th>13</th>\n",
       "      <td>1.541765</td>\n",
       "      <td>session[T.1]</td>\n",
       "    </tr>\n",
       "    <tr>\n",
       "      <th>14</th>\n",
       "      <td>1.568048</td>\n",
       "      <td>session[T.2]</td>\n",
       "    </tr>\n",
       "    <tr>\n",
       "      <th>15</th>\n",
       "      <td>1.353245</td>\n",
       "      <td>session[T.3]</td>\n",
       "    </tr>\n",
       "    <tr>\n",
       "      <th>16</th>\n",
       "      <td>1.432340</td>\n",
       "      <td>session[T.4]</td>\n",
       "    </tr>\n",
       "    <tr>\n",
       "      <th>17</th>\n",
       "      <td>1.662167</td>\n",
       "      <td>seasons[T.1]</td>\n",
       "    </tr>\n",
       "    <tr>\n",
       "      <th>18</th>\n",
       "      <td>1.568781</td>\n",
       "      <td>seasons[T.2]</td>\n",
       "    </tr>\n",
       "    <tr>\n",
       "      <th>19</th>\n",
       "      <td>1.609899</td>\n",
       "      <td>seasons[T.3]</td>\n",
       "    </tr>\n",
       "    <tr>\n",
       "      <th>20</th>\n",
       "      <td>1.051300</td>\n",
       "      <td>week[T.1]</td>\n",
       "    </tr>\n",
       "    <tr>\n",
       "      <th>21</th>\n",
       "      <td>1.020764</td>\n",
       "      <td>distance</td>\n",
       "    </tr>\n",
       "  </tbody>\n",
       "</table>\n",
       "</div>"
      ],
      "text/plain": [
       "            VIF              features\n",
       "0   3425.186988             Intercept\n",
       "1      1.688485             year[T.1]\n",
       "2      1.690192             year[T.2]\n",
       "3      1.706162             year[T.3]\n",
       "4      1.710537             year[T.4]\n",
       "5      1.665170             year[T.5]\n",
       "6      1.405393             year[T.6]\n",
       "7    706.690287  passenger_count[T.1]\n",
       "8    421.205388  passenger_count[T.2]\n",
       "9    142.481441  passenger_count[T.3]\n",
       "10    70.105012  passenger_count[T.4]\n",
       "11   208.286743  passenger_count[T.5]\n",
       "12    66.492515  passenger_count[T.6]\n",
       "13     1.541765          session[T.1]\n",
       "14     1.568048          session[T.2]\n",
       "15     1.353245          session[T.3]\n",
       "16     1.432340          session[T.4]\n",
       "17     1.662167          seasons[T.1]\n",
       "18     1.568781          seasons[T.2]\n",
       "19     1.609899          seasons[T.3]\n",
       "20     1.051300             week[T.1]\n",
       "21     1.020764              distance"
      ]
     },
     "execution_count": 103,
     "metadata": {},
     "output_type": "execute_result"
    }
   ],
   "source": [
    "# Multicollinearity test for all the variables through VIF\n",
    "outcome, predictors = dmatrices('fare_amount ~ distance+year+passenger_count+session+seasons+week',train,return_type='dataframe')\n",
    "#calculating VIF for each variable\n",
    "VIF = pd.DataFrame()\n",
    "VIF[\"VIF\"] = [variance_inflation_factor(predictors.values, i) for i in range(predictors.shape[1])]\n",
    "VIF[\"features\"] = predictors.columns\n",
    "VIF"
   ]
  },
  {
   "cell_type": "code",
   "execution_count": 104,
   "metadata": {},
   "outputs": [
    {
     "data": {
      "text/plain": [
       "Text(0.5, 0.98, 'distribution of distance variable')"
      ]
     },
     "execution_count": 104,
     "metadata": {},
     "output_type": "execute_result"
    },
    {
     "data": {
      "image/png": "[encoded data removed]",
      "text/plain": [
       "<Figure size 432x288 with 1 Axes>"
      ]
     },
     "metadata": {
      "needs_background": "light"
     },
     "output_type": "display_data"
    }
   ],
   "source": [
    "############################################# Feature Scalling ####################################################################\n",
    "# Here we will check wheather numerical variables are normally distribubted or not\n",
    "# Normality check for distance variable\n",
    "sns.distplot(train['distance'],color = 'blue',bins=50)\n",
    "plt.suptitle('distribution of distance variable')"
   ]
  },
  {
   "cell_type": "code",
   "execution_count": 105,
   "metadata": {},
   "outputs": [
    {
     "name": "stdout",
     "output_type": "stream",
     "text": [
      "skewness = 1.0499080421081244 kurtosis= 0.440637353243138\n"
     ]
    }
   ],
   "source": [
    "# skewness and kurtosis of the of distance\n",
    "skewness = train['distance'].skew()\n",
    "kurtosis = train['distance'].kurt()\n",
    "print('skewness =',skewness,'kurtosis=', kurtosis)"
   ]
  },
  {
   "cell_type": "code",
   "execution_count": 106,
   "metadata": {
    "scrolled": true
   },
   "outputs": [
    {
     "data": {
      "text/plain": [
       "Text(0.5, 0.98, 'distribution of fare_amount variable')"
      ]
     },
     "execution_count": 106,
     "metadata": {},
     "output_type": "execute_result"
    },
    {
     "data": {
      "image/png": "[encoded data removed]",
      "text/plain": [
       "<Figure size 432x288 with 1 Axes>"
      ]
     },
     "metadata": {
      "needs_background": "light"
     },
     "output_type": "display_data"
    }
   ],
   "source": [
    "sns.distplot(train['fare_amount'], color = 'blue', bins = 50)\n",
    "plt.suptitle('distribution of fare_amount variable')"
   ]
  },
  {
   "cell_type": "code",
   "execution_count": 107,
   "metadata": {},
   "outputs": [
    {
     "name": "stdout",
     "output_type": "stream",
     "text": [
      "skewness = 1.15666582445666 kurtosis= 1.1759286919168832\n"
     ]
    }
   ],
   "source": [
    "#skewness and kurtosis of fare amount variable\n",
    "skewness = train['fare_amount'].skew()\n",
    "kurtosis = train['fare_amount'].kurt()\n",
    "print('skewness =',skewness,'kurtosis=', kurtosis)"
   ]
  },
  {
   "cell_type": "code",
   "execution_count": 108,
   "metadata": {},
   "outputs": [
    {
     "data": {
      "text/plain": [
       "10.5"
      ]
     },
     "execution_count": 108,
     "metadata": {},
     "output_type": "execute_result"
    }
   ],
   "source": [
    "train['fare_amount'].loc[20]"
   ]
  },
  {
   "cell_type": "code",
   "execution_count": 109,
   "metadata": {},
   "outputs": [],
   "source": [
    "#Here we can see that fare_amount and distance variables are not normally distrubuted so we will normalize these variables.\n",
    "#Normalizationa\n",
    "train['distance'] = (train['distance'] - train['distance'].min())/(train['distance'].max()- train['distance'].min())"
   ]
  },
  {
   "cell_type": "code",
   "execution_count": 110,
   "metadata": {},
   "outputs": [],
   "source": [
    "test['distance'] = (test['distance'] - test['distance'].min())/(test['distance'].max() - test['distance'].min())"
   ]
  },
  {
   "cell_type": "code",
   "execution_count": 111,
   "metadata": {},
   "outputs": [],
   "source": [
    "#since skewness of target variable is high, apply log transform to reduce the skewness-\n",
    "train['fare_amount'] = np.log1p(train['fare_amount'])\n",
    "\n",
    "#since skewness of distance variable is high, apply log transform to reduce the skewness-\n",
    "train['distance'] = np.log1p(train['distance'])"
   ]
  },
  {
   "cell_type": "code",
   "execution_count": 112,
   "metadata": {},
   "outputs": [
    {
     "data": {
      "text/plain": [
       "2.4423470353692043"
      ]
     },
     "execution_count": 112,
     "metadata": {},
     "output_type": "execute_result"
    }
   ],
   "source": [
    "train['fare_amount'].loc[20]"
   ]
  },
  {
   "cell_type": "code",
   "execution_count": 113,
   "metadata": {},
   "outputs": [
    {
     "name": "stdout",
     "output_type": "stream",
     "text": [
      "fare_amount\n"
     ]
    },
    {
     "data": {
      "image/png": "[encoded data removed]",
      "text/plain": [
       "<Figure size 432x288 with 1 Axes>"
      ]
     },
     "metadata": {
      "needs_background": "light"
     },
     "output_type": "display_data"
    },
    {
     "name": "stdout",
     "output_type": "stream",
     "text": [
      "distance\n"
     ]
    },
    {
     "data": {
      "image/png": "[encoded data removed]",
      "text/plain": [
       "<Figure size 432x288 with 1 Axes>"
      ]
     },
     "metadata": {
      "needs_background": "light"
     },
     "output_type": "display_data"
    }
   ],
   "source": [
    "# Reploting after transforming into log\n",
    "for i in ['fare_amount', 'distance']:\n",
    "    print(i)\n",
    "    sns.distplot(train[i],bins='auto',color='green')\n",
    "    plt.title(\"Distribution for Variable \"+i)\n",
    "    plt.ylabel(\"Density\")\n",
    "    plt.show()"
   ]
  },
  {
   "cell_type": "code",
   "execution_count": 114,
   "metadata": {},
   "outputs": [
    {
     "name": "stdout",
     "output_type": "stream",
     "text": [
      "0.3059395218349297\n"
     ]
    }
   ],
   "source": [
    "skewness = train['fare_amount'].skew()\n",
    "print(skewness)"
   ]
  },
  {
   "cell_type": "code",
   "execution_count": 115,
   "metadata": {},
   "outputs": [
    {
     "name": "stdout",
     "output_type": "stream",
     "text": [
      "0.7461361965361342\n"
     ]
    }
   ],
   "source": [
    "skewness = train['distance'].skew()\n",
    "print(skewness)"
   ]
  },
  {
   "cell_type": "code",
   "execution_count": 116,
   "metadata": {},
   "outputs": [
    {
     "data": {
      "text/plain": [
       "Text(0.5, 0.98, 'distribution of distance in test data')"
      ]
     },
     "execution_count": 116,
     "metadata": {},
     "output_type": "execute_result"
    },
    {
     "data": {
      "image/png": "[encoded data removed]",
      "text/plain": [
       "<Figure size 432x288 with 1 Axes>"
      ]
     },
     "metadata": {
      "needs_background": "light"
     },
     "output_type": "display_data"
    }
   ],
   "source": [
    "# We will check the normality of distance variable in test data\n",
    "sns.distplot(test['distance'],color = 'blue' ,bins = 50)\n",
    "plt.suptitle('distribution of distance in test data')"
   ]
  },
  {
   "cell_type": "code",
   "execution_count": 117,
   "metadata": {},
   "outputs": [],
   "source": [
    "# here we ca see that distance variable in test adata is also not normally distributed so we wil take log transformation \n",
    "test['distance'] = (test['distance'] - test['distance'].min())/(test['distance'].max() - test['distance'].min())"
   ]
  },
  {
   "cell_type": "code",
   "execution_count": 118,
   "metadata": {},
   "outputs": [],
   "source": [
    "#since skewness of distance variable is high, apply log transform to reduce the skewness-\n",
    "test['distance'] = np.log1p(test['distance'])"
   ]
  },
  {
   "cell_type": "code",
   "execution_count": 119,
   "metadata": {},
   "outputs": [
    {
     "data": {
      "text/plain": [
       "Text(0.5, 0.98, 'distribution of distannce in test data')"
      ]
     },
     "execution_count": 119,
     "metadata": {},
     "output_type": "execute_result"
    },
    {
     "data": {
      "image/png": "[encoded data removed]",
      "text/plain": [
       "<Figure size 432x288 with 1 Axes>"
      ]
     },
     "metadata": {
      "needs_background": "light"
     },
     "output_type": "display_data"
    }
   ],
   "source": [
    "# After log transformation the plot of distance in test data is\n",
    "sns.distplot(test['distance'], color ='blue', bins =50)\n",
    "plt.suptitle('distribution of distannce in test data')"
   ]
  },
  {
   "cell_type": "code",
   "execution_count": 120,
   "metadata": {
    "scrolled": true
   },
   "outputs": [
    {
     "name": "stdout",
     "output_type": "stream",
     "text": [
      "4.142421419653085\n"
     ]
    }
   ],
   "source": [
    "skewness = test['distance'].skew()\n",
    "print(skewness)"
   ]
  },
  {
   "cell_type": "code",
   "execution_count": 121,
   "metadata": {
    "scrolled": true
   },
   "outputs": [
    {
     "data": {
      "text/html": [
       "<div>\n",
       "<style scoped>\n",
       "    .dataframe tbody tr th:only-of-type {\n",
       "        vertical-align: middle;\n",
       "    }\n",
       "\n",
       "    .dataframe tbody tr th {\n",
       "        vertical-align: top;\n",
       "    }\n",
       "\n",
       "    .dataframe thead th {\n",
       "        text-align: right;\n",
       "    }\n",
       "</style>\n",
       "<table border=\"1\" class=\"dataframe\">\n",
       "  <thead>\n",
       "    <tr style=\"text-align: right;\">\n",
       "      <th></th>\n",
       "      <th>year</th>\n",
       "      <th>fare_amount</th>\n",
       "      <th>passenger_count</th>\n",
       "      <th>distance</th>\n",
       "      <th>session</th>\n",
       "      <th>seasons</th>\n",
       "      <th>week</th>\n",
       "    </tr>\n",
       "  </thead>\n",
       "  <tbody>\n",
       "    <tr>\n",
       "      <th>0</th>\n",
       "      <td>0</td>\n",
       "      <td>1.704748</td>\n",
       "      <td>1</td>\n",
       "      <td>0.090080</td>\n",
       "      <td>1</td>\n",
       "      <td>2</td>\n",
       "      <td>0</td>\n",
       "    </tr>\n",
       "    <tr>\n",
       "      <th>2</th>\n",
       "      <td>2</td>\n",
       "      <td>1.902108</td>\n",
       "      <td>2</td>\n",
       "      <td>0.136323</td>\n",
       "      <td>3</td>\n",
       "      <td>2</td>\n",
       "      <td>0</td>\n",
       "    </tr>\n",
       "    <tr>\n",
       "      <th>3</th>\n",
       "      <td>3</td>\n",
       "      <td>2.163323</td>\n",
       "      <td>1</td>\n",
       "      <td>0.299778</td>\n",
       "      <td>3</td>\n",
       "      <td>1</td>\n",
       "      <td>1</td>\n",
       "    </tr>\n",
       "    <tr>\n",
       "      <th>4</th>\n",
       "      <td>1</td>\n",
       "      <td>1.840550</td>\n",
       "      <td>1</td>\n",
       "      <td>0.210307</td>\n",
       "      <td>2</td>\n",
       "      <td>1</td>\n",
       "      <td>0</td>\n",
       "    </tr>\n",
       "    <tr>\n",
       "      <th>5</th>\n",
       "      <td>2</td>\n",
       "      <td>2.572612</td>\n",
       "      <td>1</td>\n",
       "      <td>0.400239</td>\n",
       "      <td>2</td>\n",
       "      <td>3</td>\n",
       "      <td>0</td>\n",
       "    </tr>\n",
       "  </tbody>\n",
       "</table>\n",
       "</div>"
      ],
      "text/plain": [
       "  year  fare_amount passenger_count  distance session seasons week\n",
       "0    0     1.704748               1  0.090080       1       2    0\n",
       "2    2     1.902108               2  0.136323       3       2    0\n",
       "3    3     2.163323               1  0.299778       3       1    1\n",
       "4    1     1.840550               1  0.210307       2       1    0\n",
       "5    2     2.572612               1  0.400239       2       3    0"
      ]
     },
     "execution_count": 121,
     "metadata": {},
     "output_type": "execute_result"
    }
   ],
   "source": [
    "train.head()"
   ]
  },
  {
   "cell_type": "code",
   "execution_count": 122,
   "metadata": {},
   "outputs": [
    {
     "name": "stdout",
     "output_type": "stream",
     "text": [
      "(13624, 7) (10218, 6) (3406, 6) (10218,) (3406,)\n"
     ]
    }
   ],
   "source": [
    "# Train test splitting for modelling\n",
    "X = train.drop('fare_amount',axis=1).values\n",
    "y = train['fare_amount'].values\n",
    "X_train, X_test, y_train, y_test = train_test_split(X, y, test_size = 0.25, random_state=42)\n",
    "print(train.shape, X_train.shape, X_test.shape,y_train.shape,y_test.shape)"
   ]
  },
  {
   "cell_type": "code",
   "execution_count": 123,
   "metadata": {},
   "outputs": [],
   "source": [
    "#################################### Multiple Linear Regression ################################################## \n",
    "fit_LR = LinearRegression().fit(X_train , y_train)"
   ]
  },
  {
   "cell_type": "code",
   "execution_count": 124,
   "metadata": {},
   "outputs": [],
   "source": [
    "pred_train_LR = fit_LR.predict(X_train)"
   ]
  },
  {
   "cell_type": "code",
   "execution_count": 125,
   "metadata": {},
   "outputs": [],
   "source": [
    "#prediction on test data\n",
    "pred_test_LR = fit_LR.predict(X_test)"
   ]
  },
  {
   "cell_type": "code",
   "execution_count": 126,
   "metadata": {},
   "outputs": [
    {
     "data": {
      "text/plain": [
       "0.7253814548161668"
      ]
     },
     "execution_count": 126,
     "metadata": {},
     "output_type": "execute_result"
    }
   ],
   "source": [
    "#calculate R^2 for train data\n",
    "from sklearn.metrics import r2_score\n",
    "r2_score(y_train, pred_train_LR)"
   ]
  },
  {
   "cell_type": "code",
   "execution_count": 131,
   "metadata": {},
   "outputs": [
    {
     "data": {
      "text/plain": [
       "0.7046137438805404"
      ]
     },
     "execution_count": 131,
     "metadata": {},
     "output_type": "execute_result"
    }
   ],
   "source": [
    "#calculate R^2 for test data\n",
    "r2_score(y_test, pred_test_LR)"
   ]
  },
  {
   "cell_type": "code",
   "execution_count": 127,
   "metadata": {},
   "outputs": [],
   "source": [
    "##calculating RMSE for test data\n",
    "RMSE_test_LR = np.sqrt(mean_squared_error(y_test, pred_test_LR))\n",
    "\n",
    "##calculating RMSE for train data\n",
    "RMSE_train_LR= np.sqrt(mean_squared_error(y_train, pred_train_LR))"
   ]
  },
  {
   "cell_type": "code",
   "execution_count": 128,
   "metadata": {},
   "outputs": [
    {
     "name": "stdout",
     "output_type": "stream",
     "text": [
      "Root Mean Squared Error For Training data = 0.1998078290041233\n",
      "Root Mean Squared Error For Test data = 0.20607603673502253\n"
     ]
    }
   ],
   "source": [
    "print(\"Root Mean Squared Error For Training data = \"+str(RMSE_train_LR))\n",
    "print(\"Root Mean Squared Error For Test data = \"+str(RMSE_test_LR))"
   ]
  },
  {
   "cell_type": "code",
   "execution_count": 134,
   "metadata": {},
   "outputs": [],
   "source": [
    "############################## Decision Tree ############################3\n",
    "fit_DT = DecisionTreeRegressor(max_depth = 2).fit(X_train,y_train)"
   ]
  },
  {
   "cell_type": "code",
   "execution_count": 135,
   "metadata": {},
   "outputs": [],
   "source": [
    "#prediction on train data\n",
    "pred_train_DT = fit_DT.predict(X_train)\n",
    "\n",
    "#prediction on test data\n",
    "pred_test_DT = fit_DT.predict(X_test)"
   ]
  },
  {
   "cell_type": "code",
   "execution_count": 136,
   "metadata": {},
   "outputs": [
    {
     "data": {
      "text/plain": [
       "0.6524348301376425"
      ]
     },
     "execution_count": 136,
     "metadata": {},
     "output_type": "execute_result"
    }
   ],
   "source": [
    "## R^2 calculation for train data\n",
    "r2_score(y_train, pred_train_DT)"
   ]
  },
  {
   "cell_type": "code",
   "execution_count": 137,
   "metadata": {},
   "outputs": [
    {
     "data": {
      "text/plain": [
       "0.6229136593210711"
      ]
     },
     "execution_count": 137,
     "metadata": {},
     "output_type": "execute_result"
    }
   ],
   "source": [
    "## R^2 calculation for test data\n",
    "r2_score(y_test, pred_test_DT)"
   ]
  },
  {
   "cell_type": "code",
   "execution_count": 138,
   "metadata": {},
   "outputs": [],
   "source": [
    "##calculating RMSE for train data\n",
    "RMSE_train_DT = np.sqrt(mean_squared_error(y_train, pred_train_DT))\n",
    "\n",
    "##calculating RMSE for test data\n",
    "RMSE_test_DT = np.sqrt(mean_squared_error(y_test, pred_test_DT))"
   ]
  },
  {
   "cell_type": "code",
   "execution_count": 139,
   "metadata": {},
   "outputs": [
    {
     "name": "stdout",
     "output_type": "stream",
     "text": [
      "Root Mean Squared Error For Training data = 0.22475852867550794\n",
      "Root Mean Squared Error For Test data = 0.23278193107733608\n"
     ]
    }
   ],
   "source": [
    "print(\"Root Mean Squared Error For Training data = \"+str(RMSE_train_DT))\n",
    "print(\"Root Mean Squared Error For Test data = \"+str(RMSE_test_DT))"
   ]
  },
  {
   "cell_type": "code",
   "execution_count": 140,
   "metadata": {},
   "outputs": [],
   "source": [
    "########################################### Random Forest #####################################################\n",
    "fit_RF = RandomForestRegressor(n_estimators = 200).fit(X_train,y_train)"
   ]
  },
  {
   "cell_type": "code",
   "execution_count": 141,
   "metadata": {},
   "outputs": [],
   "source": [
    "#prediction on train data\n",
    "pred_train_RF = fit_RF.predict(X_train)\n",
    "#prediction on test data\n",
    "pred_test_RF = fit_RF.predict(X_test)"
   ]
  },
  {
   "cell_type": "code",
   "execution_count": 142,
   "metadata": {},
   "outputs": [
    {
     "data": {
      "text/plain": [
       "0.9599236094662843"
      ]
     },
     "execution_count": 142,
     "metadata": {},
     "output_type": "execute_result"
    }
   ],
   "source": [
    "## calculate R^2 for train data\n",
    "r2_score(y_train, pred_train_RF)"
   ]
  },
  {
   "cell_type": "code",
   "execution_count": 143,
   "metadata": {},
   "outputs": [
    {
     "data": {
      "text/plain": [
       "0.6873742508499638"
      ]
     },
     "execution_count": 143,
     "metadata": {},
     "output_type": "execute_result"
    }
   ],
   "source": [
    "#calculate R^2 for test data\n",
    "r2_score(y_test, pred_test_RF)"
   ]
  },
  {
   "cell_type": "code",
   "execution_count": 144,
   "metadata": {},
   "outputs": [
    {
     "name": "stdout",
     "output_type": "stream",
     "text": [
      "Root Mean Squared Error For Training data = 0.0763207019695304\n",
      "Root Mean Squared Error For Test data = 0.2119538154225453\n"
     ]
    }
   ],
   "source": [
    "##calculating RMSE for train data\n",
    "RMSE_train_RF = np.sqrt(mean_squared_error(y_train, pred_train_RF))\n",
    "##calculating RMSE for test data\n",
    "RMSE_test_RF = np.sqrt(mean_squared_error(y_test, pred_test_RF))\n",
    "print(\"Root Mean Squared Error For Training data = \"+str(RMSE_train_RF))\n",
    "print(\"Root Mean Squared Error For Test data = \"+str(RMSE_test_RF))"
   ]
  },
  {
   "cell_type": "code",
   "execution_count": 145,
   "metadata": {},
   "outputs": [],
   "source": [
    "########################################  Gradient boosting #################################################\n",
    "fit_GB = GradientBoostingRegressor().fit(X_train, y_train)"
   ]
  },
  {
   "cell_type": "code",
   "execution_count": 146,
   "metadata": {},
   "outputs": [],
   "source": [
    "#prediction on train data\n",
    "pred_train_GB = fit_GB.predict(X_train)\n",
    "\n",
    "#prediction on test data\n",
    "pred_test_GB = fit_GB.predict(X_test)"
   ]
  },
  {
   "cell_type": "code",
   "execution_count": 147,
   "metadata": {},
   "outputs": [
    {
     "data": {
      "text/plain": [
       "0.7253435498282337"
      ]
     },
     "execution_count": 147,
     "metadata": {},
     "output_type": "execute_result"
    }
   ],
   "source": [
    "#calculate R^2 for test data\n",
    "r2_score(y_test, pred_test_GB)"
   ]
  },
  {
   "cell_type": "code",
   "execution_count": 148,
   "metadata": {},
   "outputs": [
    {
     "data": {
      "text/plain": [
       "0.759093799456726"
      ]
     },
     "execution_count": 148,
     "metadata": {},
     "output_type": "execute_result"
    }
   ],
   "source": [
    "#calculate R^2 for train data\n",
    "r2_score(y_train, pred_train_GB)"
   ]
  },
  {
   "cell_type": "code",
   "execution_count": 149,
   "metadata": {},
   "outputs": [
    {
     "name": "stdout",
     "output_type": "stream",
     "text": [
      "Root Mean Squared Error For Training data = 0.18712079126285588\n",
      "Root Mean Squared Error For Test data = 0.19866610052497302\n"
     ]
    }
   ],
   "source": [
    "##calculating RMSE for train data\n",
    "RMSE_train_GB = np.sqrt(mean_squared_error(y_train, pred_train_GB))\n",
    "##calculating RMSE for test data\n",
    "RMSE_test_GB = np.sqrt(mean_squared_error(y_test, pred_test_GB))\n",
    "print(\"Root Mean Squared Error For Training data = \"+str(RMSE_train_GB))\n",
    "print(\"Root Mean Squared Error For Test data = \"+str(RMSE_test_GB))"
   ]
  },
  {
   "cell_type": "code",
   "execution_count": 150,
   "metadata": {},
   "outputs": [
    {
     "name": "stdout",
     "output_type": "stream",
     "text": [
      "Parameters currently in use:\n",
      "\n",
      "{'bootstrap': True,\n",
      " 'criterion': 'mse',\n",
      " 'max_depth': None,\n",
      " 'max_features': 'auto',\n",
      " 'max_leaf_nodes': None,\n",
      " 'min_impurity_decrease': 0.0,\n",
      " 'min_impurity_split': None,\n",
      " 'min_samples_leaf': 1,\n",
      " 'min_samples_split': 2,\n",
      " 'min_weight_fraction_leaf': 0.0,\n",
      " 'n_estimators': 'warn',\n",
      " 'n_jobs': None,\n",
      " 'oob_score': False,\n",
      " 'random_state': 42,\n",
      " 'verbose': 0,\n",
      " 'warm_start': False}\n"
     ]
    }
   ],
   "source": [
    "################# Optimising result using parameters tuning ##############################################\n",
    "rf = RandomForestRegressor(random_state = 42)\n",
    "# Now we will look at the parameters which are in use in current forest\n",
    "print('Parameters currently in use:\\n')\n",
    "pprint(rf.get_params())"
   ]
  },
  {
   "cell_type": "code",
   "execution_count": 151,
   "metadata": {},
   "outputs": [
    {
     "name": "stdout",
     "output_type": "stream",
     "text": [
      "Random Search CV Random Forest Regressor Model Performance:\n",
      "Best Parameters =  {'n_estimators': 15, 'max_depth': 9}\n",
      "R-squared = 0.71.\n",
      "RMSE =  0.20255973463860888\n"
     ]
    }
   ],
   "source": [
    "#Random Hyperparameter Grid\n",
    "\n",
    "#Random Search CV on Random Forest Model\n",
    "RRF = RandomForestRegressor(random_state = 0)\n",
    "n_estimator = list(range(1,20,2))\n",
    "depth = list(range(1,100,2))\n",
    "\n",
    "# Create the random grid\n",
    "rand_grid = {'n_estimators': n_estimator,\n",
    "               'max_depth': depth}\n",
    "\n",
    "randomcv_rf = RandomizedSearchCV(RRF, param_distributions = rand_grid, n_iter = 5, cv = 5, random_state=0)\n",
    "randomcv_rf = randomcv_rf.fit(X_train,y_train)\n",
    "predictions_RRF = randomcv_rf.predict(X_test)\n",
    "\n",
    "view_best_params_RRF = randomcv_rf.best_params_\n",
    "\n",
    "best_model = randomcv_rf.best_estimator_\n",
    "\n",
    "predictions_RRF = best_model.predict(X_test)\n",
    "\n",
    "# Calculating R-squared value\n",
    "RRF_r2 = r2_score(y_test, predictions_RRF)\n",
    "#Calculating RMSE\n",
    "RRF_rmse = np.sqrt(mean_squared_error(y_test,predictions_RRF))\n",
    "\n",
    "print('Random Search CV Random Forest Regressor Model Performance:')\n",
    "print('Best Parameters = ',view_best_params_RRF)\n",
    "print('R-squared = {:0.2}.'.format(RRF_r2))\n",
    "print('RMSE = ',RRF_rmse)"
   ]
  },
  {
   "cell_type": "code",
   "execution_count": 152,
   "metadata": {},
   "outputs": [
    {
     "name": "stdout",
     "output_type": "stream",
     "text": [
      "Parameters currently in use:\n",
      "\n",
      "{'alpha': 0.9,\n",
      " 'criterion': 'friedman_mse',\n",
      " 'init': None,\n",
      " 'learning_rate': 0.1,\n",
      " 'loss': 'ls',\n",
      " 'max_depth': 3,\n",
      " 'max_features': None,\n",
      " 'max_leaf_nodes': None,\n",
      " 'min_impurity_decrease': 0.0,\n",
      " 'min_impurity_split': None,\n",
      " 'min_samples_leaf': 1,\n",
      " 'min_samples_split': 2,\n",
      " 'min_weight_fraction_leaf': 0.0,\n",
      " 'n_estimators': 100,\n",
      " 'n_iter_no_change': None,\n",
      " 'presort': 'auto',\n",
      " 'random_state': 42,\n",
      " 'subsample': 1.0,\n",
      " 'tol': 0.0001,\n",
      " 'validation_fraction': 0.1,\n",
      " 'verbose': 0,\n",
      " 'warm_start': False}\n"
     ]
    }
   ],
   "source": [
    "gb = GradientBoostingRegressor(random_state = 42)\n",
    "from pprint import pprint\n",
    "# Look at parameters used by our current forest\n",
    "print('Parameters currently in use:\\n')\n",
    "pprint(gb.get_params())"
   ]
  },
  {
   "cell_type": "code",
   "execution_count": 153,
   "metadata": {
    "scrolled": true
   },
   "outputs": [
    {
     "name": "stdout",
     "output_type": "stream",
     "text": [
      "Random Search CV Gradient Boosting Model Performance:\n",
      "Best Parameters =  {'n_estimators': 15, 'max_depth': 9}\n",
      "R-squared = 0.68.\n",
      "RMSE =  0.21415215258104084\n"
     ]
    }
   ],
   "source": [
    "##Random Search CV on gradient boosting model\n",
    "\n",
    "gb = GradientBoostingRegressor(random_state = 0)\n",
    "n_estimator = list(range(1,20,2))\n",
    "depth = list(range(1,100,2))\n",
    "\n",
    "# Create the random grid\n",
    "rand_grid = {'n_estimators': n_estimator,\n",
    "               'max_depth': depth}\n",
    "\n",
    "randomcv_gb = RandomizedSearchCV(gb, param_distributions = rand_grid, n_iter = 5, cv = 5, random_state=0)\n",
    "randomcv_gb = randomcv_gb.fit(X_train,y_train)\n",
    "predictions_gb = randomcv_gb.predict(X_test)\n",
    "\n",
    "view_best_params_gb = randomcv_gb.best_params_\n",
    "\n",
    "best_model = randomcv_gb.best_estimator_\n",
    "\n",
    "predictions_gb = best_model.predict(X_test)\n",
    "\n",
    "#calculating R square value\n",
    "gb_r2 = r2_score(y_test, predictions_gb)\n",
    "#Calculating RMSE\n",
    "gb_rmse = np.sqrt(mean_squared_error(y_test,predictions_gb))\n",
    "\n",
    "print('Random Search CV Gradient Boosting Model Performance:')\n",
    "print('Best Parameters = ',view_best_params_gb)\n",
    "print('R-squared = {:0.2}.'.format(gb_r2))\n",
    "print('RMSE = ', gb_rmse)"
   ]
  },
  {
   "cell_type": "code",
   "execution_count": 154,
   "metadata": {},
   "outputs": [
    {
     "name": "stdout",
     "output_type": "stream",
     "text": [
      "Grid Search CV Random Forest Regressor Model Performance:\n",
      "Best Parameters =  {'max_depth': 7, 'n_estimators': 19}\n",
      "R-squared = 0.72.\n",
      "RMSE =  0.20086427687097538\n"
     ]
    }
   ],
   "source": [
    "## Grid Search CV for random Forest model\n",
    "regr = RandomForestRegressor(random_state = 0)\n",
    "n_estimator = list(range(11,20,1))\n",
    "depth = list(range(5,15,2))\n",
    "\n",
    "# Create the grid\n",
    "grid_search = {'n_estimators': n_estimator,\n",
    "               'max_depth': depth}\n",
    "\n",
    "## Grid Search Cross-Validation with 5 fold CV\n",
    "gridcv_rf = GridSearchCV(regr, param_grid = grid_search, cv = 5)\n",
    "gridcv_rf = gridcv_rf.fit(X_train,y_train)\n",
    "view_best_params_GRF = gridcv_rf.best_params_\n",
    "\n",
    "#Apply model on test data\n",
    "predictions_GRF = gridcv_rf.predict(X_test)\n",
    "\n",
    "#R^2\n",
    "GRF_r2 = r2_score(y_test, predictions_GRF)\n",
    "#Calculating RMSE\n",
    "GRF_rmse = np.sqrt(mean_squared_error(y_test,predictions_GRF))\n",
    "\n",
    "print('Grid Search CV Random Forest Regressor Model Performance:')\n",
    "print('Best Parameters = ',view_best_params_GRF)\n",
    "print('R-squared = {:0.2}.'.format(GRF_r2))\n",
    "print('RMSE = ',(GRF_rmse))"
   ]
  },
  {
   "cell_type": "code",
   "execution_count": 155,
   "metadata": {},
   "outputs": [
    {
     "name": "stdout",
     "output_type": "stream",
     "text": [
      "Grid Search CV Gradient Boosting regression Model Performance:\n",
      "Best Parameters =  {'max_depth': 5, 'n_estimators': 19}\n",
      "R-squared = 0.7.\n",
      "RMSE =  0.2059846733687027\n"
     ]
    }
   ],
   "source": [
    "#Grid Search CV on Gradient boosting model\n",
    "gb = GradientBoostingRegressor(random_state = 0)\n",
    "n_estimator = list(range(11,20,1))\n",
    "depth = list(range(5,15,2))\n",
    "\n",
    "# Create the grid\n",
    "grid_search = {'n_estimators': n_estimator,\n",
    "               'max_depth': depth}\n",
    "\n",
    "## Grid Search Cross-Validation with 5 fold CV\n",
    "gridcv_gb = GridSearchCV(gb, param_grid = grid_search, cv = 5)\n",
    "gridcv_gb = gridcv_gb.fit(X_train,y_train)\n",
    "view_best_params_Ggb = gridcv_gb.best_params_\n",
    "\n",
    "#Apply model on test data\n",
    "predictions_Ggb = gridcv_gb.predict(X_test)\n",
    "\n",
    "#R^2\n",
    "Ggb_r2 = r2_score(y_test, predictions_Ggb)\n",
    "#Calculating RMSE\n",
    "Ggb_rmse = np.sqrt(mean_squared_error(y_test,predictions_Ggb))\n",
    "\n",
    "print('Grid Search CV Gradient Boosting regression Model Performance:')\n",
    "print('Best Parameters = ',view_best_params_Ggb)\n",
    "print('R-squared = {:0.2}.'.format(Ggb_r2))\n",
    "print('RMSE = ',(Ggb_rmse))"
   ]
  },
  {
   "cell_type": "code",
   "execution_count": 156,
   "metadata": {},
   "outputs": [],
   "source": [
    "# Here we can see thet optimised random forest gives more accuracy and higher R-square value than other model \n",
    "#so we will apply Random Forest model on the given test data\n"
   ]
  },
  {
   "cell_type": "code",
   "execution_count": 170,
   "metadata": {},
   "outputs": [],
   "source": [
    "#Applying model on the tetst data\n",
    "## Grid Search CV for random Forest model\n",
    "regr = RandomForestRegressor(random_state = 0)\n",
    "n_estimator = list(range(11,20,1))\n",
    "depth = list(range(5,15,2))\n",
    "\n",
    "# Create the grid\n",
    "grid_search = {'n_estimators': n_estimator,\n",
    "               'max_depth': depth}\n",
    "\n",
    "## Grid Search Cross-Validation with 5 fold CV\n",
    "gridcv_rf = GridSearchCV(regr, param_grid = grid_search, cv = 5)\n",
    "gridcv_rf = gridcv_rf.fit(X_train,y_train)\n",
    "view_best_params_GRF = gridcv_rf.best_params_\n",
    "\n",
    "#Apply model on test data\n",
    "predictions_GRF_test_Df = gridcv_rf.predict(test)"
   ]
  },
  {
   "cell_type": "code",
   "execution_count": 171,
   "metadata": {},
   "outputs": [
    {
     "name": "stdout",
     "output_type": "stream",
     "text": [
      "[1.73573683 1.73573683 1.71638035 ... 2.34022842 2.07862736 1.68676391]\n"
     ]
    }
   ],
   "source": [
    "print(predictions_GRF_test_Df)"
   ]
  },
  {
   "cell_type": "code",
   "execution_count": 173,
   "metadata": {},
   "outputs": [],
   "source": [
    "test['Predicted_fare'] = predictions_GRF_test_Df"
   ]
  },
  {
   "cell_type": "code",
   "execution_count": 174,
   "metadata": {},
   "outputs": [
    {
     "data": {
      "text/html": [
       "<div>\n",
       "<style scoped>\n",
       "    .dataframe tbody tr th:only-of-type {\n",
       "        vertical-align: middle;\n",
       "    }\n",
       "\n",
       "    .dataframe tbody tr th {\n",
       "        vertical-align: top;\n",
       "    }\n",
       "\n",
       "    .dataframe thead th {\n",
       "        text-align: right;\n",
       "    }\n",
       "</style>\n",
       "<table border=\"1\" class=\"dataframe\">\n",
       "  <thead>\n",
       "    <tr style=\"text-align: right;\">\n",
       "      <th></th>\n",
       "      <th>passenger_count</th>\n",
       "      <th>year</th>\n",
       "      <th>distance</th>\n",
       "      <th>session</th>\n",
       "      <th>seasons</th>\n",
       "      <th>week</th>\n",
       "      <th>Predicted_fare</th>\n",
       "    </tr>\n",
       "  </thead>\n",
       "  <tbody>\n",
       "    <tr>\n",
       "      <th>0</th>\n",
       "      <td>1</td>\n",
       "      <td>6</td>\n",
       "      <td>0.042219</td>\n",
       "      <td>0</td>\n",
       "      <td>3</td>\n",
       "      <td>0</td>\n",
       "      <td>1.735737</td>\n",
       "    </tr>\n",
       "    <tr>\n",
       "      <th>1</th>\n",
       "      <td>1</td>\n",
       "      <td>6</td>\n",
       "      <td>0.043991</td>\n",
       "      <td>0</td>\n",
       "      <td>3</td>\n",
       "      <td>0</td>\n",
       "      <td>1.735737</td>\n",
       "    </tr>\n",
       "    <tr>\n",
       "      <th>2</th>\n",
       "      <td>1</td>\n",
       "      <td>2</td>\n",
       "      <td>0.011608</td>\n",
       "      <td>2</td>\n",
       "      <td>0</td>\n",
       "      <td>1</td>\n",
       "      <td>1.716380</td>\n",
       "    </tr>\n",
       "    <tr>\n",
       "      <th>3</th>\n",
       "      <td>1</td>\n",
       "      <td>3</td>\n",
       "      <td>0.035876</td>\n",
       "      <td>4</td>\n",
       "      <td>3</td>\n",
       "      <td>1</td>\n",
       "      <td>1.683924</td>\n",
       "    </tr>\n",
       "    <tr>\n",
       "      <th>4</th>\n",
       "      <td>1</td>\n",
       "      <td>3</td>\n",
       "      <td>0.092691</td>\n",
       "      <td>4</td>\n",
       "      <td>3</td>\n",
       "      <td>1</td>\n",
       "      <td>1.834377</td>\n",
       "    </tr>\n",
       "  </tbody>\n",
       "</table>\n",
       "</div>"
      ],
      "text/plain": [
       "  passenger_count year  distance session seasons week  Predicted_fare\n",
       "0               1    6  0.042219       0       3    0        1.735737\n",
       "1               1    6  0.043991       0       3    0        1.735737\n",
       "2               1    2  0.011608       2       0    1        1.716380\n",
       "3               1    3  0.035876       4       3    1        1.683924\n",
       "4               1    3  0.092691       4       3    1        1.834377"
      ]
     },
     "execution_count": 174,
     "metadata": {},
     "output_type": "execute_result"
    }
   ],
   "source": [
    "test.head()"
   ]
  },
  {
   "cell_type": "code",
   "execution_count": null,
   "metadata": {},
   "outputs": [],
   "source": []
  }
 ],
 "metadata": {
  "kernelspec": {
   "display_name": "Python 3",
   "language": "python",
   "name": "python3"
  },
  "language_info": {
   "codemirror_mode": {
    "name": "ipython",
    "version": 3
   },
   "file_extension": ".py",
   "mimetype": "text/x-python",
   "name": "python",
   "nbconvert_exporter": "python",
   "pygments_lexer": "ipython3",
   "version": "3.7.3"
  }
 },
 "nbformat": 4,
 "nbformat_minor": 2
}
